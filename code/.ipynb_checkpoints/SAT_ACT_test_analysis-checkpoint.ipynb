{
 "cells": [
  {
   "cell_type": "markdown",
   "metadata": {},
   "source": [
    "<img src=\"http://imgur.com/1ZcRyrc.png\" style=\"float: left; margin: 20px; height: 55px\">\n",
    "\n",
    "# Project 1: Standardized Test Analysis"
   ]
  },
  {
   "cell_type": "markdown",
   "metadata": {},
   "source": [
    "## Problem Statement & Objective"
   ]
  },
  {
   "cell_type": "markdown",
   "metadata": {},
   "source": [
    "Roll back to when we were high school kid. During the transition from high school to college, the most important thing is to choose the right track for our future. A lot of question runthrough our head, where should I study? when will the test begin? what test should I take? etc. To relief those stress for these students, this project will show you what test you should prefer for your preferences.\n"
   ]
  },
  {
   "cell_type": "markdown",
   "metadata": {},
   "source": [
    "### Contents:\n",
    "- [Background](#Background)\n",
    "- [Data Import & Cleaning](#Data-Import-and-Cleaning)\n",
    "- [Exploratory Data Analysis](#Exploratory-Data-Analysis)\n",
    "- [Data Visualization](#Visualize-the-Data)\n",
    "- [Conclusions and Recommendations](#Conclusions-and-Recommendations)"
   ]
  },
  {
   "cell_type": "markdown",
   "metadata": {},
   "source": [
    "## Background"
   ]
  },
  {
   "cell_type": "markdown",
   "metadata": {},
   "source": [
    "The SAT and ACT are standardized tests that many colleges and universities in the United States require for their admissions process. This score is used along with other materials such as grade point average (GPA) and essay responses to determine whether or not a potential student will be accepted to the university.\n",
    "\n",
    "The SAT has two sections of the test: Evidence-Based Reading and Writing and Math ([*source*](https://www.princetonreview.com/college/sat-sections)). The ACT has 4 sections: English, Mathematics, Reading, and Science, with an additional optional writing section ([*source*](https://www.act.org/content/act/en/products-and-services/the-act/scores/understanding-your-scores.html)). They have different score ranges, which you can read more about on their websites or additional outside sources (a quick Google search will help you understand the scores for each test):\n",
    "* [SAT](https://collegereadiness.collegeboard.org/sat)\n",
    "* [ACT](https://www.act.org/content/act/en.html)\n",
    "\n",
    "Standardized tests have long been a controversial topic for students, administrators, and legislators. Since the 1940's, an increasing number of colleges have been using scores from sudents' performances on tests like the SAT and the ACT as a measure for college readiness and aptitude ([*source*](https://www.minotdailynews.com/news/local-news/2017/04/a-brief-history-of-the-sat-and-act/)). Supporters of these tests argue that these scores can be used as an objective measure to determine college admittance. Opponents of these tests claim that these tests are not accurate measures of students potential or ability and serve as an inequitable barrier to entry. Lately, more and more schools are opting to drop the SAT/ACT requirement for their Fall 2021 applications ([*read more about this here*](https://www.cnn.com/2020/04/14/us/coronavirus-colleges-sat-act-test-trnd/index.html))."
   ]
  },
  {
   "cell_type": "markdown",
   "metadata": {},
   "source": [
    "###  Data\n",
    "\n",
    "\n",
    "* `act_2017.csv`: 2017 ACT Scores by State\n",
    "* `sat_2017.csv`: 2017 SAT Scores by State\n",
    "* `sat_act_by_college.csv`: Ranges of Accepted ACT & SAT Student Scores by Colleges\n",
    "* `stateabb.csv` : the state abbreviation of United states\n",
    "* `cwurData.csv` : the ranking of college \n"
   ]
  },
  {
   "cell_type": "markdown",
   "metadata": {},
   "source": [
    "## Define Functions"
   ]
  },
  {
   "cell_type": "markdown",
   "metadata": {},
   "source": [
    "#### Mean"
   ]
  },
  {
   "cell_type": "code",
   "execution_count": 4,
   "metadata": {},
   "outputs": [],
   "source": [
    "# Code:\n",
    "def mean(df_num):\n",
    "    '''finding the mean of df['column'] \n",
    "    Parameter :  df_num is df['column']\n",
    "    Return : mean of df['column']'''\n",
    "    list_num = [x for x in df_num] # append value in each low to list by list comp.\n",
    "    sum_num = 0\n",
    "    for i in list_num:\n",
    "        sum_num = sum_num + i\n",
    "    avg = sum_num/len(list_num)\n",
    "    return avg # return mean\n"
   ]
  },
  {
   "cell_type": "markdown",
   "metadata": {},
   "source": [
    "#### Standard deviation"
   ]
  },
  {
   "cell_type": "code",
   "execution_count": 5,
   "metadata": {},
   "outputs": [],
   "source": [
    "# Code:\n",
    "def std(num):\n",
    "    '''finding the std. of df['column'] \n",
    "       Parameter :  num is df['column']\n",
    "       Return : std. of df['column']'''\n",
    "    out =[]\n",
    "    sum_num = 0\n",
    "    for j in num:\n",
    "        out.append((j - mean(num))**2) # calculate number in each row and append to list\n",
    "    for k in out:\n",
    "        sum_num = sum_num + k # summation of all number in list\n",
    "    out2 = (sum_num/len(num))**(1/2)\n",
    "    return out2\n",
    "    "
   ]
  },
  {
   "cell_type": "markdown",
   "metadata": {},
   "source": [
    "#### Data cleaning     "
   ]
  },
  {
   "cell_type": "code",
   "execution_count": 6,
   "metadata": {},
   "outputs": [],
   "source": [
    "def cleaner(percent):\n",
    "    '''convert percentage value with dtype = 'object' to dtype ='float' \n",
    "       Parameter :  percent is object in each row of df['column']'''\n",
    "    percent = (percent.split('%')[0]) # split '%' out and choose only number\n",
    "    percent = float(percent)/100\n",
    "    return percent\n",
    "\n"
   ]
  },
  {
   "cell_type": "code",
   "execution_count": 7,
   "metadata": {},
   "outputs": [],
   "source": [
    "# code for extrac percentile\n",
    "\n",
    "def split(num):\n",
    "    '''convert 25-75percentiles value with dtype = 'object' to dtype ='int' \n",
    "       Parameter :  num is object in each row of df['column']'''\n",
    "    try:\n",
    "        num = num.strip('\\u200b\\u200b ') #strip out string\n",
    "        num_25 = int(num.split('-')[0]) #strip out string and select left number\n",
    "        num_75 = int(num.split('-')[1])#strip out string and select right number\n",
    "        return num_25,num_75 # return (left number, right number)\n",
    "    except ValueError:\n",
    "        return (0,0) # if there is missing value return (0,0)\n"
   ]
  },
  {
   "cell_type": "markdown",
   "metadata": {},
   "source": [
    "#### other "
   ]
  },
  {
   "cell_type": "code",
   "execution_count": 8,
   "metadata": {},
   "outputs": [],
   "source": [
    "def numeric_rank(x):\n",
    "    '''convert ranking into 3 classes \n",
    "       Parameter :  x is df['ranking_column']'''\n",
    "    rank_num = []\n",
    "    for i in x:\n",
    "        if i > 152: # 227 - 227/3 # 77 152 227\n",
    "            rank_num.append(3) \n",
    "        elif i > 77 :\n",
    "            rank_num.append(2)\n",
    "        else:\n",
    "            rank_num.append(1)   # high\n",
    "    full_data['rank_num'] = rank_num # create new column with 3 rank classes\n"
   ]
  },
  {
   "cell_type": "markdown",
   "metadata": {},
   "source": [
    "# Import"
   ]
  },
  {
   "cell_type": "code",
   "execution_count": 9,
   "metadata": {},
   "outputs": [],
   "source": [
    "# Imports:\n",
    "import pandas as pd\n",
    "import numpy as np\n",
    "import matplotlib.pyplot as plt\n",
    "import seaborn as sns\n",
    "import geopandas as gpd"
   ]
  },
  {
   "cell_type": "markdown",
   "metadata": {},
   "source": [
    "## Data Import and Cleaning"
   ]
  },
  {
   "cell_type": "code",
   "execution_count": 10,
   "metadata": {},
   "outputs": [],
   "source": [
    "act_2017 = pd.read_csv('../data/act_2017.csv')\n",
    "sat_2017 = pd.read_csv('../data/sat_2017.csv')\n",
    "accept = pd.read_csv('../data/sat_act_by_college.csv')\n",
    "college = pd.read_csv('../data/colleges.csv')\n",
    "stateabb = pd.read_csv('../data/stateabb.csv')\n",
    "rank = pd.read_csv('../data/cwurData.csv') "
   ]
  },
  {
   "cell_type": "markdown",
   "metadata": {},
   "source": [
    "## SAT data"
   ]
  },
  {
   "cell_type": "code",
   "execution_count": 11,
   "metadata": {
    "scrolled": true
   },
   "outputs": [
    {
     "data": {
      "text/html": [
       "<div>\n",
       "<style scoped>\n",
       "    .dataframe tbody tr th:only-of-type {\n",
       "        vertical-align: middle;\n",
       "    }\n",
       "\n",
       "    .dataframe tbody tr th {\n",
       "        vertical-align: top;\n",
       "    }\n",
       "\n",
       "    .dataframe thead th {\n",
       "        text-align: right;\n",
       "    }\n",
       "</style>\n",
       "<table border=\"1\" class=\"dataframe\">\n",
       "  <thead>\n",
       "    <tr style=\"text-align: right;\">\n",
       "      <th></th>\n",
       "      <th>State</th>\n",
       "      <th>Participation</th>\n",
       "      <th>Evidence-Based Reading and Writing</th>\n",
       "      <th>Math</th>\n",
       "      <th>Total</th>\n",
       "    </tr>\n",
       "  </thead>\n",
       "  <tbody>\n",
       "    <tr>\n",
       "      <th>0</th>\n",
       "      <td>Alabama</td>\n",
       "      <td>5%</td>\n",
       "      <td>593</td>\n",
       "      <td>572</td>\n",
       "      <td>1165</td>\n",
       "    </tr>\n",
       "    <tr>\n",
       "      <th>1</th>\n",
       "      <td>Alaska</td>\n",
       "      <td>38%</td>\n",
       "      <td>547</td>\n",
       "      <td>533</td>\n",
       "      <td>1080</td>\n",
       "    </tr>\n",
       "    <tr>\n",
       "      <th>2</th>\n",
       "      <td>Arizona</td>\n",
       "      <td>30%</td>\n",
       "      <td>563</td>\n",
       "      <td>553</td>\n",
       "      <td>1116</td>\n",
       "    </tr>\n",
       "    <tr>\n",
       "      <th>3</th>\n",
       "      <td>Arkansas</td>\n",
       "      <td>3%</td>\n",
       "      <td>614</td>\n",
       "      <td>594</td>\n",
       "      <td>1208</td>\n",
       "    </tr>\n",
       "    <tr>\n",
       "      <th>4</th>\n",
       "      <td>California</td>\n",
       "      <td>53%</td>\n",
       "      <td>531</td>\n",
       "      <td>524</td>\n",
       "      <td>1055</td>\n",
       "    </tr>\n",
       "  </tbody>\n",
       "</table>\n",
       "</div>"
      ],
      "text/plain": [
       "        State Participation  Evidence-Based Reading and Writing  Math  Total\n",
       "0     Alabama            5%                                 593   572   1165\n",
       "1      Alaska           38%                                 547   533   1080\n",
       "2     Arizona           30%                                 563   553   1116\n",
       "3    Arkansas            3%                                 614   594   1208\n",
       "4  California           53%                                 531   524   1055"
      ]
     },
     "execution_count": 11,
     "metadata": {},
     "output_type": "execute_result"
    }
   ],
   "source": [
    "sat_2017.head(5)"
   ]
  },
  {
   "cell_type": "code",
   "execution_count": 12,
   "metadata": {
    "scrolled": true
   },
   "outputs": [
    {
     "data": {
      "text/html": [
       "<div>\n",
       "<style scoped>\n",
       "    .dataframe tbody tr th:only-of-type {\n",
       "        vertical-align: middle;\n",
       "    }\n",
       "\n",
       "    .dataframe tbody tr th {\n",
       "        vertical-align: top;\n",
       "    }\n",
       "\n",
       "    .dataframe thead th {\n",
       "        text-align: right;\n",
       "    }\n",
       "</style>\n",
       "<table border=\"1\" class=\"dataframe\">\n",
       "  <thead>\n",
       "    <tr style=\"text-align: right;\">\n",
       "      <th></th>\n",
       "      <th>Evidence-Based Reading and Writing</th>\n",
       "      <th>Math</th>\n",
       "      <th>Total</th>\n",
       "    </tr>\n",
       "  </thead>\n",
       "  <tbody>\n",
       "    <tr>\n",
       "      <th>count</th>\n",
       "      <td>51.000000</td>\n",
       "      <td>51.000000</td>\n",
       "      <td>51.000000</td>\n",
       "    </tr>\n",
       "    <tr>\n",
       "      <th>mean</th>\n",
       "      <td>569.117647</td>\n",
       "      <td>547.627451</td>\n",
       "      <td>1126.098039</td>\n",
       "    </tr>\n",
       "    <tr>\n",
       "      <th>std</th>\n",
       "      <td>45.666901</td>\n",
       "      <td>84.909119</td>\n",
       "      <td>92.494812</td>\n",
       "    </tr>\n",
       "    <tr>\n",
       "      <th>min</th>\n",
       "      <td>482.000000</td>\n",
       "      <td>52.000000</td>\n",
       "      <td>950.000000</td>\n",
       "    </tr>\n",
       "    <tr>\n",
       "      <th>25%</th>\n",
       "      <td>533.500000</td>\n",
       "      <td>522.000000</td>\n",
       "      <td>1055.500000</td>\n",
       "    </tr>\n",
       "    <tr>\n",
       "      <th>50%</th>\n",
       "      <td>559.000000</td>\n",
       "      <td>548.000000</td>\n",
       "      <td>1107.000000</td>\n",
       "    </tr>\n",
       "    <tr>\n",
       "      <th>75%</th>\n",
       "      <td>613.000000</td>\n",
       "      <td>599.000000</td>\n",
       "      <td>1212.000000</td>\n",
       "    </tr>\n",
       "    <tr>\n",
       "      <th>max</th>\n",
       "      <td>644.000000</td>\n",
       "      <td>651.000000</td>\n",
       "      <td>1295.000000</td>\n",
       "    </tr>\n",
       "  </tbody>\n",
       "</table>\n",
       "</div>"
      ],
      "text/plain": [
       "       Evidence-Based Reading and Writing        Math        Total\n",
       "count                           51.000000   51.000000    51.000000\n",
       "mean                           569.117647  547.627451  1126.098039\n",
       "std                             45.666901   84.909119    92.494812\n",
       "min                            482.000000   52.000000   950.000000\n",
       "25%                            533.500000  522.000000  1055.500000\n",
       "50%                            559.000000  548.000000  1107.000000\n",
       "75%                            613.000000  599.000000  1212.000000\n",
       "max                            644.000000  651.000000  1295.000000"
      ]
     },
     "execution_count": 12,
     "metadata": {},
     "output_type": "execute_result"
    }
   ],
   "source": [
    "sat_2017.describe() # number of 52 - obviously wrong"
   ]
  },
  {
   "cell_type": "code",
   "execution_count": 13,
   "metadata": {
    "scrolled": false
   },
   "outputs": [
    {
     "name": "stdout",
     "output_type": "stream",
     "text": [
      "<class 'pandas.core.frame.DataFrame'>\n",
      "RangeIndex: 51 entries, 0 to 50\n",
      "Data columns (total 5 columns):\n",
      " #   Column                              Non-Null Count  Dtype \n",
      "---  ------                              --------------  ----- \n",
      " 0   State                               51 non-null     object\n",
      " 1   Participation                       51 non-null     object\n",
      " 2   Evidence-Based Reading and Writing  51 non-null     int64 \n",
      " 3   Math                                51 non-null     int64 \n",
      " 4   Total                               51 non-null     int64 \n",
      "dtypes: int64(3), object(2)\n",
      "memory usage: 2.1+ KB\n"
     ]
    }
   ],
   "source": [
    "sat_2017.info()# No 'NaN'"
   ]
  },
  {
   "cell_type": "code",
   "execution_count": 14,
   "metadata": {},
   "outputs": [],
   "source": [
    "# replace the type-error value \n",
    "sat_2017.replace(to_replace=52,value = 520,inplace=True)"
   ]
  },
  {
   "cell_type": "code",
   "execution_count": 15,
   "metadata": {},
   "outputs": [],
   "source": [
    "# convert string percentage into numeric value\n",
    "sat_2017['Participate_rate_num'] = sat_2017['Participation'].apply(lambda x : cleaner(x))# convert Particapation object to number"
   ]
  },
  {
   "cell_type": "code",
   "execution_count": 16,
   "metadata": {},
   "outputs": [],
   "source": [
    "sat_2017.columns = ['state','participation','ebrw_sat','math_sat','total_sat','participation_ratio_sat']"
   ]
  },
  {
   "cell_type": "code",
   "execution_count": 17,
   "metadata": {},
   "outputs": [],
   "source": [
    "sat_2017.drop(columns ='participation',inplace = True)"
   ]
  },
  {
   "cell_type": "code",
   "execution_count": 18,
   "metadata": {
    "scrolled": true
   },
   "outputs": [
    {
     "data": {
      "text/plain": [
       "Index(['state', 'ebrw_sat', 'math_sat', 'total_sat',\n",
       "       'participation_ratio_sat'],\n",
       "      dtype='object')"
      ]
     },
     "execution_count": 18,
     "metadata": {},
     "output_type": "execute_result"
    }
   ],
   "source": [
    "sat_2017.columns"
   ]
  },
  {
   "cell_type": "markdown",
   "metadata": {},
   "source": [
    "## ACT data"
   ]
  },
  {
   "cell_type": "code",
   "execution_count": 19,
   "metadata": {
    "scrolled": true
   },
   "outputs": [
    {
     "data": {
      "text/html": [
       "<div>\n",
       "<style scoped>\n",
       "    .dataframe tbody tr th:only-of-type {\n",
       "        vertical-align: middle;\n",
       "    }\n",
       "\n",
       "    .dataframe tbody tr th {\n",
       "        vertical-align: top;\n",
       "    }\n",
       "\n",
       "    .dataframe thead th {\n",
       "        text-align: right;\n",
       "    }\n",
       "</style>\n",
       "<table border=\"1\" class=\"dataframe\">\n",
       "  <thead>\n",
       "    <tr style=\"text-align: right;\">\n",
       "      <th></th>\n",
       "      <th>State</th>\n",
       "      <th>Participation</th>\n",
       "      <th>English</th>\n",
       "      <th>Math</th>\n",
       "      <th>Reading</th>\n",
       "      <th>Science</th>\n",
       "      <th>Composite</th>\n",
       "    </tr>\n",
       "  </thead>\n",
       "  <tbody>\n",
       "    <tr>\n",
       "      <th>0</th>\n",
       "      <td>National</td>\n",
       "      <td>60%</td>\n",
       "      <td>20.3</td>\n",
       "      <td>20.7</td>\n",
       "      <td>21.4</td>\n",
       "      <td>21.0</td>\n",
       "      <td>21.0</td>\n",
       "    </tr>\n",
       "    <tr>\n",
       "      <th>1</th>\n",
       "      <td>Alabama</td>\n",
       "      <td>100%</td>\n",
       "      <td>18.9</td>\n",
       "      <td>18.4</td>\n",
       "      <td>19.7</td>\n",
       "      <td>19.4</td>\n",
       "      <td>19.2</td>\n",
       "    </tr>\n",
       "    <tr>\n",
       "      <th>2</th>\n",
       "      <td>Alaska</td>\n",
       "      <td>65%</td>\n",
       "      <td>18.7</td>\n",
       "      <td>19.8</td>\n",
       "      <td>20.4</td>\n",
       "      <td>19.9</td>\n",
       "      <td>19.8</td>\n",
       "    </tr>\n",
       "    <tr>\n",
       "      <th>3</th>\n",
       "      <td>Arizona</td>\n",
       "      <td>62%</td>\n",
       "      <td>18.6</td>\n",
       "      <td>19.8</td>\n",
       "      <td>20.1</td>\n",
       "      <td>19.8</td>\n",
       "      <td>19.7</td>\n",
       "    </tr>\n",
       "    <tr>\n",
       "      <th>4</th>\n",
       "      <td>Arkansas</td>\n",
       "      <td>100%</td>\n",
       "      <td>18.9</td>\n",
       "      <td>19.0</td>\n",
       "      <td>19.7</td>\n",
       "      <td>19.5</td>\n",
       "      <td>19.4</td>\n",
       "    </tr>\n",
       "  </tbody>\n",
       "</table>\n",
       "</div>"
      ],
      "text/plain": [
       "      State Participation  English  Math  Reading  Science Composite\n",
       "0  National           60%     20.3  20.7     21.4     21.0      21.0\n",
       "1   Alabama          100%     18.9  18.4     19.7     19.4      19.2\n",
       "2    Alaska           65%     18.7  19.8     20.4     19.9      19.8\n",
       "3   Arizona           62%     18.6  19.8     20.1     19.8      19.7\n",
       "4  Arkansas          100%     18.9  19.0     19.7     19.5      19.4"
      ]
     },
     "execution_count": 19,
     "metadata": {},
     "output_type": "execute_result"
    }
   ],
   "source": [
    "act_2017.head(5)"
   ]
  },
  {
   "cell_type": "code",
   "execution_count": 20,
   "metadata": {
    "scrolled": false
   },
   "outputs": [
    {
     "name": "stdout",
     "output_type": "stream",
     "text": [
      "<class 'pandas.core.frame.DataFrame'>\n",
      "RangeIndex: 52 entries, 0 to 51\n",
      "Data columns (total 7 columns):\n",
      " #   Column         Non-Null Count  Dtype  \n",
      "---  ------         --------------  -----  \n",
      " 0   State          52 non-null     object \n",
      " 1   Participation  52 non-null     object \n",
      " 2   English        52 non-null     float64\n",
      " 3   Math           52 non-null     float64\n",
      " 4   Reading        52 non-null     float64\n",
      " 5   Science        52 non-null     float64\n",
      " 6   Composite      52 non-null     object \n",
      "dtypes: float64(4), object(3)\n",
      "memory usage: 3.0+ KB\n"
     ]
    }
   ],
   "source": [
    "act_2017.info() # No 'NaN'"
   ]
  },
  {
   "cell_type": "code",
   "execution_count": 21,
   "metadata": {
    "scrolled": true
   },
   "outputs": [
    {
     "data": {
      "text/html": [
       "<div>\n",
       "<style scoped>\n",
       "    .dataframe tbody tr th:only-of-type {\n",
       "        vertical-align: middle;\n",
       "    }\n",
       "\n",
       "    .dataframe tbody tr th {\n",
       "        vertical-align: top;\n",
       "    }\n",
       "\n",
       "    .dataframe thead th {\n",
       "        text-align: right;\n",
       "    }\n",
       "</style>\n",
       "<table border=\"1\" class=\"dataframe\">\n",
       "  <thead>\n",
       "    <tr style=\"text-align: right;\">\n",
       "      <th></th>\n",
       "      <th>English</th>\n",
       "      <th>Math</th>\n",
       "      <th>Reading</th>\n",
       "      <th>Science</th>\n",
       "    </tr>\n",
       "  </thead>\n",
       "  <tbody>\n",
       "    <tr>\n",
       "      <th>count</th>\n",
       "      <td>52.000000</td>\n",
       "      <td>52.000000</td>\n",
       "      <td>52.000000</td>\n",
       "      <td>52.000000</td>\n",
       "    </tr>\n",
       "    <tr>\n",
       "      <th>mean</th>\n",
       "      <td>20.919231</td>\n",
       "      <td>21.173077</td>\n",
       "      <td>22.001923</td>\n",
       "      <td>21.040385</td>\n",
       "    </tr>\n",
       "    <tr>\n",
       "      <th>std</th>\n",
       "      <td>2.332132</td>\n",
       "      <td>1.963602</td>\n",
       "      <td>2.048672</td>\n",
       "      <td>3.151113</td>\n",
       "    </tr>\n",
       "    <tr>\n",
       "      <th>min</th>\n",
       "      <td>16.300000</td>\n",
       "      <td>18.000000</td>\n",
       "      <td>18.100000</td>\n",
       "      <td>2.300000</td>\n",
       "    </tr>\n",
       "    <tr>\n",
       "      <th>25%</th>\n",
       "      <td>19.000000</td>\n",
       "      <td>19.400000</td>\n",
       "      <td>20.475000</td>\n",
       "      <td>19.900000</td>\n",
       "    </tr>\n",
       "    <tr>\n",
       "      <th>50%</th>\n",
       "      <td>20.550000</td>\n",
       "      <td>20.900000</td>\n",
       "      <td>21.700000</td>\n",
       "      <td>21.150000</td>\n",
       "    </tr>\n",
       "    <tr>\n",
       "      <th>75%</th>\n",
       "      <td>23.300000</td>\n",
       "      <td>23.100000</td>\n",
       "      <td>24.125000</td>\n",
       "      <td>22.525000</td>\n",
       "    </tr>\n",
       "    <tr>\n",
       "      <th>max</th>\n",
       "      <td>25.500000</td>\n",
       "      <td>25.300000</td>\n",
       "      <td>26.000000</td>\n",
       "      <td>24.900000</td>\n",
       "    </tr>\n",
       "  </tbody>\n",
       "</table>\n",
       "</div>"
      ],
      "text/plain": [
       "         English       Math    Reading    Science\n",
       "count  52.000000  52.000000  52.000000  52.000000\n",
       "mean   20.919231  21.173077  22.001923  21.040385\n",
       "std     2.332132   1.963602   2.048672   3.151113\n",
       "min    16.300000  18.000000  18.100000   2.300000\n",
       "25%    19.000000  19.400000  20.475000  19.900000\n",
       "50%    20.550000  20.900000  21.700000  21.150000\n",
       "75%    23.300000  23.100000  24.125000  22.525000\n",
       "max    25.500000  25.300000  26.000000  24.900000"
      ]
     },
     "execution_count": 21,
     "metadata": {},
     "output_type": "execute_result"
    }
   ],
   "source": [
    "act_2017.describe() # number 2.3 in science column seem wrong"
   ]
  },
  {
   "cell_type": "code",
   "execution_count": 22,
   "metadata": {
    "scrolled": true
   },
   "outputs": [],
   "source": [
    "\n",
    "act_2017['Participate_rate_num'] = act_2017['Participation'].apply(lambda x :cleaner(x))"
   ]
  },
  {
   "cell_type": "code",
   "execution_count": 23,
   "metadata": {},
   "outputs": [],
   "source": [
    "# replace the type-error value \n",
    "\n",
    "act_2017['Composite'] = act_2017['Composite'].str.replace('x','')\n",
    "act_2017['Composite'] = act_2017['Composite'].astype(float)\n",
    "act_2017.replace(to_replace=2.3,value = 23,inplace=True)"
   ]
  },
  {
   "cell_type": "code",
   "execution_count": 24,
   "metadata": {},
   "outputs": [
    {
     "data": {
      "text/html": [
       "<div>\n",
       "<style scoped>\n",
       "    .dataframe tbody tr th:only-of-type {\n",
       "        vertical-align: middle;\n",
       "    }\n",
       "\n",
       "    .dataframe tbody tr th {\n",
       "        vertical-align: top;\n",
       "    }\n",
       "\n",
       "    .dataframe thead th {\n",
       "        text-align: right;\n",
       "    }\n",
       "</style>\n",
       "<table border=\"1\" class=\"dataframe\">\n",
       "  <thead>\n",
       "    <tr style=\"text-align: right;\">\n",
       "      <th></th>\n",
       "      <th>State</th>\n",
       "      <th>Participation</th>\n",
       "      <th>English</th>\n",
       "      <th>Math</th>\n",
       "      <th>Reading</th>\n",
       "      <th>Science</th>\n",
       "      <th>Composite</th>\n",
       "      <th>Participate_rate_num</th>\n",
       "    </tr>\n",
       "  </thead>\n",
       "  <tbody>\n",
       "    <tr>\n",
       "      <th>0</th>\n",
       "      <td>National</td>\n",
       "      <td>60%</td>\n",
       "      <td>20.3</td>\n",
       "      <td>20.7</td>\n",
       "      <td>21.4</td>\n",
       "      <td>21.0</td>\n",
       "      <td>21.0</td>\n",
       "      <td>0.60</td>\n",
       "    </tr>\n",
       "    <tr>\n",
       "      <th>1</th>\n",
       "      <td>Alabama</td>\n",
       "      <td>100%</td>\n",
       "      <td>18.9</td>\n",
       "      <td>18.4</td>\n",
       "      <td>19.7</td>\n",
       "      <td>19.4</td>\n",
       "      <td>19.2</td>\n",
       "      <td>1.00</td>\n",
       "    </tr>\n",
       "    <tr>\n",
       "      <th>2</th>\n",
       "      <td>Alaska</td>\n",
       "      <td>65%</td>\n",
       "      <td>18.7</td>\n",
       "      <td>19.8</td>\n",
       "      <td>20.4</td>\n",
       "      <td>19.9</td>\n",
       "      <td>19.8</td>\n",
       "      <td>0.65</td>\n",
       "    </tr>\n",
       "    <tr>\n",
       "      <th>3</th>\n",
       "      <td>Arizona</td>\n",
       "      <td>62%</td>\n",
       "      <td>18.6</td>\n",
       "      <td>19.8</td>\n",
       "      <td>20.1</td>\n",
       "      <td>19.8</td>\n",
       "      <td>19.7</td>\n",
       "      <td>0.62</td>\n",
       "    </tr>\n",
       "    <tr>\n",
       "      <th>4</th>\n",
       "      <td>Arkansas</td>\n",
       "      <td>100%</td>\n",
       "      <td>18.9</td>\n",
       "      <td>19.0</td>\n",
       "      <td>19.7</td>\n",
       "      <td>19.5</td>\n",
       "      <td>19.4</td>\n",
       "      <td>1.00</td>\n",
       "    </tr>\n",
       "  </tbody>\n",
       "</table>\n",
       "</div>"
      ],
      "text/plain": [
       "      State Participation  English  Math  Reading  Science  Composite  \\\n",
       "0  National           60%     20.3  20.7     21.4     21.0       21.0   \n",
       "1   Alabama          100%     18.9  18.4     19.7     19.4       19.2   \n",
       "2    Alaska           65%     18.7  19.8     20.4     19.9       19.8   \n",
       "3   Arizona           62%     18.6  19.8     20.1     19.8       19.7   \n",
       "4  Arkansas          100%     18.9  19.0     19.7     19.5       19.4   \n",
       "\n",
       "   Participate_rate_num  \n",
       "0                  0.60  \n",
       "1                  1.00  \n",
       "2                  0.65  \n",
       "3                  0.62  \n",
       "4                  1.00  "
      ]
     },
     "execution_count": 24,
     "metadata": {},
     "output_type": "execute_result"
    }
   ],
   "source": [
    "act_2017.head()"
   ]
  },
  {
   "cell_type": "code",
   "execution_count": 25,
   "metadata": {},
   "outputs": [],
   "source": [
    "act_2017.columns = ['state','participation','eng_act','math_act','reading_act','science_act','composite_act','participation_ratio_act']"
   ]
  },
  {
   "cell_type": "code",
   "execution_count": 26,
   "metadata": {},
   "outputs": [],
   "source": [
    "act_2017.drop(columns ='participation',inplace = True)"
   ]
  },
  {
   "cell_type": "markdown",
   "metadata": {},
   "source": [
    "#### merge SAT data and ACT data"
   ]
  },
  {
   "cell_type": "code",
   "execution_count": 27,
   "metadata": {},
   "outputs": [],
   "source": [
    "sat_act = act_2017.merge(sat_2017,on='state')"
   ]
  },
  {
   "cell_type": "code",
   "execution_count": 28,
   "metadata": {
    "scrolled": true
   },
   "outputs": [
    {
     "data": {
      "text/html": [
       "<div>\n",
       "<style scoped>\n",
       "    .dataframe tbody tr th:only-of-type {\n",
       "        vertical-align: middle;\n",
       "    }\n",
       "\n",
       "    .dataframe tbody tr th {\n",
       "        vertical-align: top;\n",
       "    }\n",
       "\n",
       "    .dataframe thead th {\n",
       "        text-align: right;\n",
       "    }\n",
       "</style>\n",
       "<table border=\"1\" class=\"dataframe\">\n",
       "  <thead>\n",
       "    <tr style=\"text-align: right;\">\n",
       "      <th></th>\n",
       "      <th>state</th>\n",
       "      <th>eng_act</th>\n",
       "      <th>math_act</th>\n",
       "      <th>reading_act</th>\n",
       "      <th>science_act</th>\n",
       "      <th>composite_act</th>\n",
       "      <th>participation_ratio_act</th>\n",
       "      <th>ebrw_sat</th>\n",
       "      <th>math_sat</th>\n",
       "      <th>total_sat</th>\n",
       "      <th>participation_ratio_sat</th>\n",
       "    </tr>\n",
       "  </thead>\n",
       "  <tbody>\n",
       "    <tr>\n",
       "      <th>0</th>\n",
       "      <td>Alabama</td>\n",
       "      <td>18.9</td>\n",
       "      <td>18.4</td>\n",
       "      <td>19.7</td>\n",
       "      <td>19.4</td>\n",
       "      <td>19.2</td>\n",
       "      <td>1.00</td>\n",
       "      <td>593</td>\n",
       "      <td>572</td>\n",
       "      <td>1165</td>\n",
       "      <td>0.05</td>\n",
       "    </tr>\n",
       "    <tr>\n",
       "      <th>1</th>\n",
       "      <td>Alaska</td>\n",
       "      <td>18.7</td>\n",
       "      <td>19.8</td>\n",
       "      <td>20.4</td>\n",
       "      <td>19.9</td>\n",
       "      <td>19.8</td>\n",
       "      <td>0.65</td>\n",
       "      <td>547</td>\n",
       "      <td>533</td>\n",
       "      <td>1080</td>\n",
       "      <td>0.38</td>\n",
       "    </tr>\n",
       "    <tr>\n",
       "      <th>2</th>\n",
       "      <td>Arizona</td>\n",
       "      <td>18.6</td>\n",
       "      <td>19.8</td>\n",
       "      <td>20.1</td>\n",
       "      <td>19.8</td>\n",
       "      <td>19.7</td>\n",
       "      <td>0.62</td>\n",
       "      <td>563</td>\n",
       "      <td>553</td>\n",
       "      <td>1116</td>\n",
       "      <td>0.30</td>\n",
       "    </tr>\n",
       "    <tr>\n",
       "      <th>3</th>\n",
       "      <td>Arkansas</td>\n",
       "      <td>18.9</td>\n",
       "      <td>19.0</td>\n",
       "      <td>19.7</td>\n",
       "      <td>19.5</td>\n",
       "      <td>19.4</td>\n",
       "      <td>1.00</td>\n",
       "      <td>614</td>\n",
       "      <td>594</td>\n",
       "      <td>1208</td>\n",
       "      <td>0.03</td>\n",
       "    </tr>\n",
       "    <tr>\n",
       "      <th>4</th>\n",
       "      <td>California</td>\n",
       "      <td>22.5</td>\n",
       "      <td>22.7</td>\n",
       "      <td>23.1</td>\n",
       "      <td>22.2</td>\n",
       "      <td>22.8</td>\n",
       "      <td>0.31</td>\n",
       "      <td>531</td>\n",
       "      <td>524</td>\n",
       "      <td>1055</td>\n",
       "      <td>0.53</td>\n",
       "    </tr>\n",
       "  </tbody>\n",
       "</table>\n",
       "</div>"
      ],
      "text/plain": [
       "        state  eng_act  math_act  reading_act  science_act  composite_act  \\\n",
       "0     Alabama     18.9      18.4         19.7         19.4           19.2   \n",
       "1      Alaska     18.7      19.8         20.4         19.9           19.8   \n",
       "2     Arizona     18.6      19.8         20.1         19.8           19.7   \n",
       "3    Arkansas     18.9      19.0         19.7         19.5           19.4   \n",
       "4  California     22.5      22.7         23.1         22.2           22.8   \n",
       "\n",
       "   participation_ratio_act  ebrw_sat  math_sat  total_sat  \\\n",
       "0                     1.00       593       572       1165   \n",
       "1                     0.65       547       533       1080   \n",
       "2                     0.62       563       553       1116   \n",
       "3                     1.00       614       594       1208   \n",
       "4                     0.31       531       524       1055   \n",
       "\n",
       "   participation_ratio_sat  \n",
       "0                     0.05  \n",
       "1                     0.38  \n",
       "2                     0.30  \n",
       "3                     0.03  \n",
       "4                     0.53  "
      ]
     },
     "execution_count": 28,
     "metadata": {},
     "output_type": "execute_result"
    }
   ],
   "source": [
    "# national state will depleted\n",
    "sat_act.head(5)"
   ]
  },
  {
   "cell_type": "code",
   "execution_count": 29,
   "metadata": {},
   "outputs": [],
   "source": [
    "# using dict. comp. to get the std. value in each column.\n",
    "sd = {col:std(score) for (col,score) in sat_act.select_dtypes(exclude='object').items()}"
   ]
  },
  {
   "cell_type": "code",
   "execution_count": 30,
   "metadata": {},
   "outputs": [],
   "source": [
    "# create new column with the value of z-score of both avg score test in each test\n",
    "#sat_list = [(i - mean(sat_act['total_sat']))/sd['total_sat'] for i in sat_act['total_sat']]\n",
    "#act_list = [(i - mean(sat_act['composite_act']))/sd['composite_act'] for i in sat_act['composite_act']]\n",
    "#sat_act['z_score_sat'] = sat_list\n",
    "#sat_act['z_score_act'] = act_list"
   ]
  },
  {
   "cell_type": "markdown",
   "metadata": {},
   "source": [
    "## Acceptance data"
   ]
  },
  {
   "cell_type": "code",
   "execution_count": 31,
   "metadata": {
    "scrolled": true
   },
   "outputs": [
    {
     "data": {
      "text/plain": [
       "(416, 8)"
      ]
     },
     "execution_count": 31,
     "metadata": {},
     "output_type": "execute_result"
    }
   ],
   "source": [
    "accept.shape"
   ]
  },
  {
   "cell_type": "code",
   "execution_count": 32,
   "metadata": {
    "scrolled": true
   },
   "outputs": [
    {
     "name": "stdout",
     "output_type": "stream",
     "text": [
      "<class 'pandas.core.frame.DataFrame'>\n",
      "RangeIndex: 416 entries, 0 to 415\n",
      "Data columns (total 8 columns):\n",
      " #   Column                          Non-Null Count  Dtype \n",
      "---  ------                          --------------  ----- \n",
      " 0   School                          416 non-null    object\n",
      " 1   Test Optional?                  416 non-null    object\n",
      " 2   Applies to Class Year(s)        390 non-null    object\n",
      " 3   Policy Details                  416 non-null    object\n",
      " 4   Number of Applicants            416 non-null    int64 \n",
      " 5   Accept Rate                     416 non-null    object\n",
      " 6   SAT Total 25th-75th Percentile  416 non-null    object\n",
      " 7   ACT Total 25th-75th Percentile  416 non-null    object\n",
      "dtypes: int64(1), object(7)\n",
      "memory usage: 26.1+ KB\n"
     ]
    }
   ],
   "source": [
    "accept.info() # some 'NaN' by that column is not going to be use, so will be droped. "
   ]
  },
  {
   "cell_type": "code",
   "execution_count": 33,
   "metadata": {},
   "outputs": [],
   "source": [
    "# convert to percentage number\n",
    "accept['Accept Rate'] = accept['Accept Rate'].apply(lambda x : cleaner(x))"
   ]
  },
  {
   "cell_type": "code",
   "execution_count": 34,
   "metadata": {},
   "outputs": [],
   "source": [
    "accept.rename(columns = {'School':'college'},inplace=True)"
   ]
  },
  {
   "cell_type": "code",
   "execution_count": 35,
   "metadata": {},
   "outputs": [],
   "source": [
    "# split the margin of 25-75 percentiles score into number\n",
    "accept['sat_25%'] = accept['SAT Total 25th-75th Percentile'].apply(lambda x : split(x)[0])\n",
    "accept['sat_75%'] = accept['SAT Total 25th-75th Percentile'].apply(lambda x : split(x)[1])"
   ]
  },
  {
   "cell_type": "code",
   "execution_count": 36,
   "metadata": {},
   "outputs": [],
   "source": [
    "# split the margin of 25-75 percentiles score into number\n",
    "accept['act_25%'] = accept['ACT Total 25th-75th Percentile'].apply(lambda x : split(x)[0])\n",
    "accept['act_75%'] = accept['ACT Total 25th-75th Percentile'].apply(lambda x : split(x)[1])"
   ]
  },
  {
   "cell_type": "code",
   "execution_count": 37,
   "metadata": {},
   "outputs": [],
   "source": [
    "# use dict comp. to get std. in each column of this dataframe\n",
    "sd2 = {col:std(score) for (col,score) in accept.select_dtypes(exclude='object').items()}"
   ]
  },
  {
   "cell_type": "code",
   "execution_count": 38,
   "metadata": {},
   "outputs": [],
   "source": [
    "#create new column with the value of z-score of 75 percentiles score in both test\n",
    "sat_75_list = [(i - mean(accept['sat_75%']))/sd2['sat_75%'] for i in accept['sat_75%']]\n",
    "act_75_list = [(i - mean(accept['act_75%']))/sd2['act_75%'] for i in accept['act_75%']]\n",
    "accept['z_75_sat'] = sat_75_list\n",
    "accept['z_75_act'] = act_75_list"
   ]
  },
  {
   "cell_type": "code",
   "execution_count": 39,
   "metadata": {},
   "outputs": [],
   "source": [
    "accept = accept.rename(columns = {'Test Optional?':'freedom_pick','Number of Applicants':'applicants','Accept Rate':'accept_rate'})"
   ]
  },
  {
   "cell_type": "markdown",
   "metadata": {},
   "source": [
    "## College in each state data"
   ]
  },
  {
   "cell_type": "code",
   "execution_count": 40,
   "metadata": {
    "scrolled": true
   },
   "outputs": [
    {
     "data": {
      "text/html": [
       "<div>\n",
       "<style scoped>\n",
       "    .dataframe tbody tr th:only-of-type {\n",
       "        vertical-align: middle;\n",
       "    }\n",
       "\n",
       "    .dataframe tbody tr th {\n",
       "        vertical-align: top;\n",
       "    }\n",
       "\n",
       "    .dataframe thead th {\n",
       "        text-align: right;\n",
       "    }\n",
       "</style>\n",
       "<table border=\"1\" class=\"dataframe\">\n",
       "  <thead>\n",
       "    <tr style=\"text-align: right;\">\n",
       "      <th></th>\n",
       "      <th>date</th>\n",
       "      <th>state</th>\n",
       "      <th>county</th>\n",
       "      <th>city</th>\n",
       "      <th>ipeds_id</th>\n",
       "      <th>college</th>\n",
       "      <th>cases</th>\n",
       "      <th>cases_2021</th>\n",
       "      <th>notes</th>\n",
       "    </tr>\n",
       "  </thead>\n",
       "  <tbody>\n",
       "    <tr>\n",
       "      <th>0</th>\n",
       "      <td>26/5/2021</td>\n",
       "      <td>Alabama</td>\n",
       "      <td>Madison</td>\n",
       "      <td>Huntsville</td>\n",
       "      <td>100654</td>\n",
       "      <td>Alabama A&amp;M University</td>\n",
       "      <td>41</td>\n",
       "      <td>NaN</td>\n",
       "      <td>NaN</td>\n",
       "    </tr>\n",
       "    <tr>\n",
       "      <th>1</th>\n",
       "      <td>26/5/2021</td>\n",
       "      <td>Alabama</td>\n",
       "      <td>Montgomery</td>\n",
       "      <td>Montgomery</td>\n",
       "      <td>100724</td>\n",
       "      <td>Alabama State University</td>\n",
       "      <td>2</td>\n",
       "      <td>NaN</td>\n",
       "      <td>NaN</td>\n",
       "    </tr>\n",
       "    <tr>\n",
       "      <th>2</th>\n",
       "      <td>26/5/2021</td>\n",
       "      <td>Alabama</td>\n",
       "      <td>Limestone</td>\n",
       "      <td>Athens</td>\n",
       "      <td>100812</td>\n",
       "      <td>Athens State University</td>\n",
       "      <td>45</td>\n",
       "      <td>10.0</td>\n",
       "      <td>NaN</td>\n",
       "    </tr>\n",
       "    <tr>\n",
       "      <th>3</th>\n",
       "      <td>26/5/2021</td>\n",
       "      <td>Alabama</td>\n",
       "      <td>Lee</td>\n",
       "      <td>Auburn</td>\n",
       "      <td>100858</td>\n",
       "      <td>Auburn University</td>\n",
       "      <td>2742</td>\n",
       "      <td>567.0</td>\n",
       "      <td>NaN</td>\n",
       "    </tr>\n",
       "    <tr>\n",
       "      <th>4</th>\n",
       "      <td>26/5/2021</td>\n",
       "      <td>Alabama</td>\n",
       "      <td>Montgomery</td>\n",
       "      <td>Montgomery</td>\n",
       "      <td>100830</td>\n",
       "      <td>Auburn University at Montgomery</td>\n",
       "      <td>220</td>\n",
       "      <td>80.0</td>\n",
       "      <td>NaN</td>\n",
       "    </tr>\n",
       "  </tbody>\n",
       "</table>\n",
       "</div>"
      ],
      "text/plain": [
       "        date    state      county        city ipeds_id  \\\n",
       "0  26/5/2021  Alabama     Madison  Huntsville   100654   \n",
       "1  26/5/2021  Alabama  Montgomery  Montgomery   100724   \n",
       "2  26/5/2021  Alabama   Limestone      Athens   100812   \n",
       "3  26/5/2021  Alabama         Lee      Auburn   100858   \n",
       "4  26/5/2021  Alabama  Montgomery  Montgomery   100830   \n",
       "\n",
       "                           college  cases  cases_2021 notes  \n",
       "0           Alabama A&M University     41         NaN   NaN  \n",
       "1         Alabama State University      2         NaN   NaN  \n",
       "2          Athens State University     45        10.0   NaN  \n",
       "3                Auburn University   2742       567.0   NaN  \n",
       "4  Auburn University at Montgomery    220        80.0   NaN  "
      ]
     },
     "execution_count": 40,
     "metadata": {},
     "output_type": "execute_result"
    }
   ],
   "source": [
    "college.head(5)"
   ]
  },
  {
   "cell_type": "code",
   "execution_count": 41,
   "metadata": {},
   "outputs": [
    {
     "data": {
      "text/plain": [
       "(1948, 9)"
      ]
     },
     "execution_count": 41,
     "metadata": {},
     "output_type": "execute_result"
    }
   ],
   "source": [
    "college.shape"
   ]
  },
  {
   "cell_type": "code",
   "execution_count": 42,
   "metadata": {
    "scrolled": true
   },
   "outputs": [
    {
     "data": {
      "text/html": [
       "<div>\n",
       "<style scoped>\n",
       "    .dataframe tbody tr th:only-of-type {\n",
       "        vertical-align: middle;\n",
       "    }\n",
       "\n",
       "    .dataframe tbody tr th {\n",
       "        vertical-align: top;\n",
       "    }\n",
       "\n",
       "    .dataframe thead th {\n",
       "        text-align: right;\n",
       "    }\n",
       "</style>\n",
       "<table border=\"1\" class=\"dataframe\">\n",
       "  <thead>\n",
       "    <tr style=\"text-align: right;\">\n",
       "      <th></th>\n",
       "      <th>date</th>\n",
       "      <th>state</th>\n",
       "      <th>county</th>\n",
       "      <th>city</th>\n",
       "      <th>ipeds_id</th>\n",
       "      <th>college</th>\n",
       "      <th>cases</th>\n",
       "      <th>cases_2021</th>\n",
       "      <th>notes</th>\n",
       "    </tr>\n",
       "  </thead>\n",
       "  <tbody>\n",
       "    <tr>\n",
       "      <th>0</th>\n",
       "      <td>26/5/2021</td>\n",
       "      <td>Alabama</td>\n",
       "      <td>Madison</td>\n",
       "      <td>Huntsville</td>\n",
       "      <td>100654</td>\n",
       "      <td>Alabama A&amp;M University</td>\n",
       "      <td>41</td>\n",
       "      <td>NaN</td>\n",
       "      <td>NaN</td>\n",
       "    </tr>\n",
       "    <tr>\n",
       "      <th>1</th>\n",
       "      <td>26/5/2021</td>\n",
       "      <td>Alabama</td>\n",
       "      <td>Montgomery</td>\n",
       "      <td>Montgomery</td>\n",
       "      <td>100724</td>\n",
       "      <td>Alabama State University</td>\n",
       "      <td>2</td>\n",
       "      <td>NaN</td>\n",
       "      <td>NaN</td>\n",
       "    </tr>\n",
       "    <tr>\n",
       "      <th>2</th>\n",
       "      <td>26/5/2021</td>\n",
       "      <td>Alabama</td>\n",
       "      <td>Limestone</td>\n",
       "      <td>Athens</td>\n",
       "      <td>100812</td>\n",
       "      <td>Athens State University</td>\n",
       "      <td>45</td>\n",
       "      <td>10.0</td>\n",
       "      <td>NaN</td>\n",
       "    </tr>\n",
       "    <tr>\n",
       "      <th>3</th>\n",
       "      <td>26/5/2021</td>\n",
       "      <td>Alabama</td>\n",
       "      <td>Lee</td>\n",
       "      <td>Auburn</td>\n",
       "      <td>100858</td>\n",
       "      <td>Auburn University</td>\n",
       "      <td>2742</td>\n",
       "      <td>567.0</td>\n",
       "      <td>NaN</td>\n",
       "    </tr>\n",
       "    <tr>\n",
       "      <th>4</th>\n",
       "      <td>26/5/2021</td>\n",
       "      <td>Alabama</td>\n",
       "      <td>Montgomery</td>\n",
       "      <td>Montgomery</td>\n",
       "      <td>100830</td>\n",
       "      <td>Auburn University at Montgomery</td>\n",
       "      <td>220</td>\n",
       "      <td>80.0</td>\n",
       "      <td>NaN</td>\n",
       "    </tr>\n",
       "    <tr>\n",
       "      <th>...</th>\n",
       "      <td>...</td>\n",
       "      <td>...</td>\n",
       "      <td>...</td>\n",
       "      <td>...</td>\n",
       "      <td>...</td>\n",
       "      <td>...</td>\n",
       "      <td>...</td>\n",
       "      <td>...</td>\n",
       "      <td>...</td>\n",
       "    </tr>\n",
       "    <tr>\n",
       "      <th>1943</th>\n",
       "      <td>26/5/2021</td>\n",
       "      <td>Wisconsin</td>\n",
       "      <td>Milwaukee</td>\n",
       "      <td>Milwaukee</td>\n",
       "      <td>240338</td>\n",
       "      <td>Wisconsin Lutheran College</td>\n",
       "      <td>143</td>\n",
       "      <td>23.0</td>\n",
       "      <td>NaN</td>\n",
       "    </tr>\n",
       "    <tr>\n",
       "      <th>1944</th>\n",
       "      <td>26/5/2021</td>\n",
       "      <td>Wyoming</td>\n",
       "      <td>Natrona</td>\n",
       "      <td>Casper</td>\n",
       "      <td>240505</td>\n",
       "      <td>Casper College</td>\n",
       "      <td>376</td>\n",
       "      <td>46.0</td>\n",
       "      <td>NaN</td>\n",
       "    </tr>\n",
       "    <tr>\n",
       "      <th>1945</th>\n",
       "      <td>26/5/2021</td>\n",
       "      <td>Wyoming</td>\n",
       "      <td>Goshen</td>\n",
       "      <td>Torrington</td>\n",
       "      <td>240596</td>\n",
       "      <td>Eastern Wyoming College</td>\n",
       "      <td>17</td>\n",
       "      <td>5.0</td>\n",
       "      <td>NaN</td>\n",
       "    </tr>\n",
       "    <tr>\n",
       "      <th>1946</th>\n",
       "      <td>26/5/2021</td>\n",
       "      <td>Wyoming</td>\n",
       "      <td>Albany</td>\n",
       "      <td>Laramie</td>\n",
       "      <td>240727</td>\n",
       "      <td>University of Wyoming</td>\n",
       "      <td>2087</td>\n",
       "      <td>292.0</td>\n",
       "      <td>NaN</td>\n",
       "    </tr>\n",
       "    <tr>\n",
       "      <th>1947</th>\n",
       "      <td>26/5/2021</td>\n",
       "      <td>Wyoming</td>\n",
       "      <td>Sweetwater</td>\n",
       "      <td>Rock Springs</td>\n",
       "      <td>240693</td>\n",
       "      <td>Western Wyoming Community College</td>\n",
       "      <td>68</td>\n",
       "      <td>3.0</td>\n",
       "      <td>NaN</td>\n",
       "    </tr>\n",
       "  </tbody>\n",
       "</table>\n",
       "<p>1948 rows × 9 columns</p>\n",
       "</div>"
      ],
      "text/plain": [
       "           date      state      county          city ipeds_id  \\\n",
       "0     26/5/2021    Alabama     Madison    Huntsville   100654   \n",
       "1     26/5/2021    Alabama  Montgomery    Montgomery   100724   \n",
       "2     26/5/2021    Alabama   Limestone        Athens   100812   \n",
       "3     26/5/2021    Alabama         Lee        Auburn   100858   \n",
       "4     26/5/2021    Alabama  Montgomery    Montgomery   100830   \n",
       "...         ...        ...         ...           ...      ...   \n",
       "1943  26/5/2021  Wisconsin   Milwaukee     Milwaukee   240338   \n",
       "1944  26/5/2021    Wyoming     Natrona        Casper   240505   \n",
       "1945  26/5/2021    Wyoming      Goshen    Torrington   240596   \n",
       "1946  26/5/2021    Wyoming      Albany       Laramie   240727   \n",
       "1947  26/5/2021    Wyoming  Sweetwater  Rock Springs   240693   \n",
       "\n",
       "                                college  cases  cases_2021 notes  \n",
       "0                Alabama A&M University     41         NaN   NaN  \n",
       "1              Alabama State University      2         NaN   NaN  \n",
       "2               Athens State University     45        10.0   NaN  \n",
       "3                     Auburn University   2742       567.0   NaN  \n",
       "4       Auburn University at Montgomery    220        80.0   NaN  \n",
       "...                                 ...    ...         ...   ...  \n",
       "1943         Wisconsin Lutheran College    143        23.0   NaN  \n",
       "1944                     Casper College    376        46.0   NaN  \n",
       "1945            Eastern Wyoming College     17         5.0   NaN  \n",
       "1946              University of Wyoming   2087       292.0   NaN  \n",
       "1947  Western Wyoming Community College     68         3.0   NaN  \n",
       "\n",
       "[1948 rows x 9 columns]"
      ]
     },
     "execution_count": 42,
     "metadata": {},
     "output_type": "execute_result"
    }
   ],
   "source": [
    "college.drop_duplicates() # no duplicate"
   ]
  },
  {
   "cell_type": "code",
   "execution_count": 43,
   "metadata": {},
   "outputs": [],
   "source": [
    "college = college.drop(columns=['county','city','ipeds_id','cases','cases_2021','notes','date'])"
   ]
  },
  {
   "cell_type": "markdown",
   "metadata": {},
   "source": [
    "#### merge college data and accept data"
   ]
  },
  {
   "cell_type": "code",
   "execution_count": 44,
   "metadata": {
    "scrolled": true
   },
   "outputs": [],
   "source": [
    "\n",
    "accept_state = accept.merge(college,on='college') # data loss by 25% # because some college did not have the spelling format, drop for easy.\n"
   ]
  },
  {
   "cell_type": "code",
   "execution_count": 45,
   "metadata": {},
   "outputs": [
    {
     "data": {
      "text/plain": [
       "(297, 15)"
      ]
     },
     "execution_count": 45,
     "metadata": {},
     "output_type": "execute_result"
    }
   ],
   "source": [
    "accept_state.shape "
   ]
  },
  {
   "cell_type": "code",
   "execution_count": 46,
   "metadata": {},
   "outputs": [],
   "source": [
    "accept_state.drop(columns=['Applies to Class Year(s)','Policy Details','SAT Total 25th-75th Percentile','ACT Total 25th-75th Percentile'],inplace =True)"
   ]
  },
  {
   "cell_type": "markdown",
   "metadata": {},
   "source": [
    "## State abbreviation data"
   ]
  },
  {
   "cell_type": "code",
   "execution_count": 47,
   "metadata": {},
   "outputs": [],
   "source": [
    "stateabb.columns = ['state','abbrev','code']"
   ]
  },
  {
   "cell_type": "markdown",
   "metadata": {},
   "source": [
    "#### merge acceptance data with the state name by the state abbreviation data"
   ]
  },
  {
   "cell_type": "code",
   "execution_count": 48,
   "metadata": {},
   "outputs": [],
   "source": [
    "accept_state = accept_state.merge(stateabb,on='state',how = 'left')"
   ]
  },
  {
   "cell_type": "code",
   "execution_count": 49,
   "metadata": {},
   "outputs": [
    {
     "data": {
      "text/plain": [
       "(297, 13)"
      ]
     },
     "execution_count": 49,
     "metadata": {},
     "output_type": "execute_result"
    }
   ],
   "source": [
    "accept_state.shape"
   ]
  },
  {
   "cell_type": "code",
   "execution_count": 50,
   "metadata": {
    "scrolled": true
   },
   "outputs": [],
   "source": [
    "# fill out 'NaN' with 'DC'\n",
    "accept_state.replace(to_replace= np.nan,value = 'DC',inplace=True)"
   ]
  },
  {
   "cell_type": "markdown",
   "metadata": {},
   "source": [
    "#### Merge all dataset into full dataset"
   ]
  },
  {
   "cell_type": "code",
   "execution_count": 51,
   "metadata": {
    "scrolled": true
   },
   "outputs": [],
   "source": [
    "full_data = accept_state.merge(sat_act,on='state')"
   ]
  },
  {
   "cell_type": "code",
   "execution_count": 52,
   "metadata": {},
   "outputs": [
    {
     "data": {
      "text/plain": [
       "(292, 23)"
      ]
     },
     "execution_count": 52,
     "metadata": {},
     "output_type": "execute_result"
    }
   ],
   "source": [
    "full_data.shape"
   ]
  },
  {
   "cell_type": "code",
   "execution_count": 53,
   "metadata": {
    "scrolled": true
   },
   "outputs": [
    {
     "data": {
      "text/html": [
       "<div>\n",
       "<style scoped>\n",
       "    .dataframe tbody tr th:only-of-type {\n",
       "        vertical-align: middle;\n",
       "    }\n",
       "\n",
       "    .dataframe tbody tr th {\n",
       "        vertical-align: top;\n",
       "    }\n",
       "\n",
       "    .dataframe thead th {\n",
       "        text-align: right;\n",
       "    }\n",
       "</style>\n",
       "<table border=\"1\" class=\"dataframe\">\n",
       "  <thead>\n",
       "    <tr style=\"text-align: right;\">\n",
       "      <th></th>\n",
       "      <th>college</th>\n",
       "      <th>freedom_pick</th>\n",
       "      <th>applicants</th>\n",
       "      <th>accept_rate</th>\n",
       "      <th>sat_25%</th>\n",
       "      <th>sat_75%</th>\n",
       "      <th>act_25%</th>\n",
       "      <th>act_75%</th>\n",
       "      <th>z_75_sat</th>\n",
       "      <th>z_75_act</th>\n",
       "      <th>...</th>\n",
       "      <th>eng_act</th>\n",
       "      <th>math_act</th>\n",
       "      <th>reading_act</th>\n",
       "      <th>science_act</th>\n",
       "      <th>composite_act</th>\n",
       "      <th>participation_ratio_act</th>\n",
       "      <th>ebrw_sat</th>\n",
       "      <th>math_sat</th>\n",
       "      <th>total_sat</th>\n",
       "      <th>participation_ratio_sat</th>\n",
       "    </tr>\n",
       "  </thead>\n",
       "  <tbody>\n",
       "    <tr>\n",
       "      <th>0</th>\n",
       "      <td>Stanford University</td>\n",
       "      <td>Yes</td>\n",
       "      <td>47452</td>\n",
       "      <td>0.043</td>\n",
       "      <td>1440</td>\n",
       "      <td>1570</td>\n",
       "      <td>32</td>\n",
       "      <td>35</td>\n",
       "      <td>1.177329</td>\n",
       "      <td>1.099582</td>\n",
       "      <td>...</td>\n",
       "      <td>22.5</td>\n",
       "      <td>22.7</td>\n",
       "      <td>23.1</td>\n",
       "      <td>22.2</td>\n",
       "      <td>22.8</td>\n",
       "      <td>0.31</td>\n",
       "      <td>531</td>\n",
       "      <td>524</td>\n",
       "      <td>1055</td>\n",
       "      <td>0.53</td>\n",
       "    </tr>\n",
       "    <tr>\n",
       "      <th>1</th>\n",
       "      <td>California Institute of Technology</td>\n",
       "      <td>Yes (TB)</td>\n",
       "      <td>8367</td>\n",
       "      <td>0.064</td>\n",
       "      <td>1530</td>\n",
       "      <td>1560</td>\n",
       "      <td>35</td>\n",
       "      <td>36</td>\n",
       "      <td>1.126335</td>\n",
       "      <td>1.293488</td>\n",
       "      <td>...</td>\n",
       "      <td>22.5</td>\n",
       "      <td>22.7</td>\n",
       "      <td>23.1</td>\n",
       "      <td>22.2</td>\n",
       "      <td>22.8</td>\n",
       "      <td>0.31</td>\n",
       "      <td>531</td>\n",
       "      <td>524</td>\n",
       "      <td>1055</td>\n",
       "      <td>0.53</td>\n",
       "    </tr>\n",
       "    <tr>\n",
       "      <th>2</th>\n",
       "      <td>Pomona College</td>\n",
       "      <td>Yes</td>\n",
       "      <td>10401</td>\n",
       "      <td>0.074</td>\n",
       "      <td>1390</td>\n",
       "      <td>1540</td>\n",
       "      <td>32</td>\n",
       "      <td>35</td>\n",
       "      <td>1.024347</td>\n",
       "      <td>1.099582</td>\n",
       "      <td>...</td>\n",
       "      <td>22.5</td>\n",
       "      <td>22.7</td>\n",
       "      <td>23.1</td>\n",
       "      <td>22.2</td>\n",
       "      <td>22.8</td>\n",
       "      <td>0.31</td>\n",
       "      <td>531</td>\n",
       "      <td>524</td>\n",
       "      <td>1055</td>\n",
       "      <td>0.53</td>\n",
       "    </tr>\n",
       "    <tr>\n",
       "      <th>3</th>\n",
       "      <td>Claremont McKenna College</td>\n",
       "      <td>Yes</td>\n",
       "      <td>6066</td>\n",
       "      <td>0.103</td>\n",
       "      <td>1360</td>\n",
       "      <td>1510</td>\n",
       "      <td>31</td>\n",
       "      <td>34</td>\n",
       "      <td>0.871364</td>\n",
       "      <td>0.905675</td>\n",
       "      <td>...</td>\n",
       "      <td>22.5</td>\n",
       "      <td>22.7</td>\n",
       "      <td>23.1</td>\n",
       "      <td>22.2</td>\n",
       "      <td>22.8</td>\n",
       "      <td>0.31</td>\n",
       "      <td>531</td>\n",
       "      <td>524</td>\n",
       "      <td>1055</td>\n",
       "      <td>0.53</td>\n",
       "    </tr>\n",
       "    <tr>\n",
       "      <th>4</th>\n",
       "      <td>University of Southern California</td>\n",
       "      <td>Yes</td>\n",
       "      <td>64352</td>\n",
       "      <td>0.130</td>\n",
       "      <td>1350</td>\n",
       "      <td>1530</td>\n",
       "      <td>30</td>\n",
       "      <td>34</td>\n",
       "      <td>0.973353</td>\n",
       "      <td>0.905675</td>\n",
       "      <td>...</td>\n",
       "      <td>22.5</td>\n",
       "      <td>22.7</td>\n",
       "      <td>23.1</td>\n",
       "      <td>22.2</td>\n",
       "      <td>22.8</td>\n",
       "      <td>0.31</td>\n",
       "      <td>531</td>\n",
       "      <td>524</td>\n",
       "      <td>1055</td>\n",
       "      <td>0.53</td>\n",
       "    </tr>\n",
       "  </tbody>\n",
       "</table>\n",
       "<p>5 rows × 23 columns</p>\n",
       "</div>"
      ],
      "text/plain": [
       "                              college freedom_pick  applicants  accept_rate  \\\n",
       "0                 Stanford University          Yes       47452        0.043   \n",
       "1  California Institute of Technology     Yes (TB)        8367        0.064   \n",
       "2                      Pomona College          Yes       10401        0.074   \n",
       "3           Claremont McKenna College          Yes        6066        0.103   \n",
       "4   University of Southern California          Yes       64352        0.130   \n",
       "\n",
       "   sat_25%  sat_75%  act_25%  act_75%  z_75_sat  z_75_act  ... eng_act  \\\n",
       "0     1440     1570       32       35  1.177329  1.099582  ...    22.5   \n",
       "1     1530     1560       35       36  1.126335  1.293488  ...    22.5   \n",
       "2     1390     1540       32       35  1.024347  1.099582  ...    22.5   \n",
       "3     1360     1510       31       34  0.871364  0.905675  ...    22.5   \n",
       "4     1350     1530       30       34  0.973353  0.905675  ...    22.5   \n",
       "\n",
       "  math_act reading_act  science_act  composite_act  participation_ratio_act  \\\n",
       "0     22.7        23.1         22.2           22.8                     0.31   \n",
       "1     22.7        23.1         22.2           22.8                     0.31   \n",
       "2     22.7        23.1         22.2           22.8                     0.31   \n",
       "3     22.7        23.1         22.2           22.8                     0.31   \n",
       "4     22.7        23.1         22.2           22.8                     0.31   \n",
       "\n",
       "   ebrw_sat  math_sat  total_sat  participation_ratio_sat  \n",
       "0       531       524       1055                     0.53  \n",
       "1       531       524       1055                     0.53  \n",
       "2       531       524       1055                     0.53  \n",
       "3       531       524       1055                     0.53  \n",
       "4       531       524       1055                     0.53  \n",
       "\n",
       "[5 rows x 23 columns]"
      ]
     },
     "execution_count": 53,
     "metadata": {},
     "output_type": "execute_result"
    }
   ],
   "source": [
    "full_data.head(5)"
   ]
  },
  {
   "cell_type": "code",
   "execution_count": 54,
   "metadata": {},
   "outputs": [],
   "source": [
    "# filter only not null data\n",
    "full_data = full_data[(full_data['sat_25%'] != 0) & (full_data['act_25%'] !=0)] "
   ]
  },
  {
   "cell_type": "markdown",
   "metadata": {},
   "source": [
    "## College ranking data"
   ]
  },
  {
   "cell_type": "code",
   "execution_count": 55,
   "metadata": {
    "scrolled": true
   },
   "outputs": [
    {
     "data": {
      "text/html": [
       "<div>\n",
       "<style scoped>\n",
       "    .dataframe tbody tr th:only-of-type {\n",
       "        vertical-align: middle;\n",
       "    }\n",
       "\n",
       "    .dataframe tbody tr th {\n",
       "        vertical-align: top;\n",
       "    }\n",
       "\n",
       "    .dataframe thead th {\n",
       "        text-align: right;\n",
       "    }\n",
       "</style>\n",
       "<table border=\"1\" class=\"dataframe\">\n",
       "  <thead>\n",
       "    <tr style=\"text-align: right;\">\n",
       "      <th></th>\n",
       "      <th>world_rank</th>\n",
       "      <th>institution</th>\n",
       "      <th>country</th>\n",
       "      <th>national_rank</th>\n",
       "      <th>quality_of_education</th>\n",
       "      <th>alumni_employment</th>\n",
       "      <th>quality_of_faculty</th>\n",
       "      <th>publications</th>\n",
       "      <th>influence</th>\n",
       "      <th>citations</th>\n",
       "      <th>broad_impact</th>\n",
       "      <th>patents</th>\n",
       "      <th>score</th>\n",
       "      <th>year</th>\n",
       "    </tr>\n",
       "  </thead>\n",
       "  <tbody>\n",
       "    <tr>\n",
       "      <th>0</th>\n",
       "      <td>1</td>\n",
       "      <td>Harvard University</td>\n",
       "      <td>USA</td>\n",
       "      <td>1</td>\n",
       "      <td>7</td>\n",
       "      <td>9</td>\n",
       "      <td>1</td>\n",
       "      <td>1</td>\n",
       "      <td>1</td>\n",
       "      <td>1</td>\n",
       "      <td>NaN</td>\n",
       "      <td>5</td>\n",
       "      <td>100.00</td>\n",
       "      <td>2012</td>\n",
       "    </tr>\n",
       "    <tr>\n",
       "      <th>1</th>\n",
       "      <td>2</td>\n",
       "      <td>Massachusetts Institute of Technology</td>\n",
       "      <td>USA</td>\n",
       "      <td>2</td>\n",
       "      <td>9</td>\n",
       "      <td>17</td>\n",
       "      <td>3</td>\n",
       "      <td>12</td>\n",
       "      <td>4</td>\n",
       "      <td>4</td>\n",
       "      <td>NaN</td>\n",
       "      <td>1</td>\n",
       "      <td>91.67</td>\n",
       "      <td>2012</td>\n",
       "    </tr>\n",
       "    <tr>\n",
       "      <th>2</th>\n",
       "      <td>3</td>\n",
       "      <td>Stanford University</td>\n",
       "      <td>USA</td>\n",
       "      <td>3</td>\n",
       "      <td>17</td>\n",
       "      <td>11</td>\n",
       "      <td>5</td>\n",
       "      <td>4</td>\n",
       "      <td>2</td>\n",
       "      <td>2</td>\n",
       "      <td>NaN</td>\n",
       "      <td>15</td>\n",
       "      <td>89.50</td>\n",
       "      <td>2012</td>\n",
       "    </tr>\n",
       "    <tr>\n",
       "      <th>3</th>\n",
       "      <td>4</td>\n",
       "      <td>University of Cambridge</td>\n",
       "      <td>United Kingdom</td>\n",
       "      <td>1</td>\n",
       "      <td>10</td>\n",
       "      <td>24</td>\n",
       "      <td>4</td>\n",
       "      <td>16</td>\n",
       "      <td>16</td>\n",
       "      <td>11</td>\n",
       "      <td>NaN</td>\n",
       "      <td>50</td>\n",
       "      <td>86.17</td>\n",
       "      <td>2012</td>\n",
       "    </tr>\n",
       "    <tr>\n",
       "      <th>4</th>\n",
       "      <td>5</td>\n",
       "      <td>California Institute of Technology</td>\n",
       "      <td>USA</td>\n",
       "      <td>4</td>\n",
       "      <td>2</td>\n",
       "      <td>29</td>\n",
       "      <td>7</td>\n",
       "      <td>37</td>\n",
       "      <td>22</td>\n",
       "      <td>22</td>\n",
       "      <td>NaN</td>\n",
       "      <td>18</td>\n",
       "      <td>85.21</td>\n",
       "      <td>2012</td>\n",
       "    </tr>\n",
       "  </tbody>\n",
       "</table>\n",
       "</div>"
      ],
      "text/plain": [
       "   world_rank                            institution         country  \\\n",
       "0           1                     Harvard University             USA   \n",
       "1           2  Massachusetts Institute of Technology             USA   \n",
       "2           3                    Stanford University             USA   \n",
       "3           4                University of Cambridge  United Kingdom   \n",
       "4           5     California Institute of Technology             USA   \n",
       "\n",
       "   national_rank  quality_of_education  alumni_employment  quality_of_faculty  \\\n",
       "0              1                     7                  9                   1   \n",
       "1              2                     9                 17                   3   \n",
       "2              3                    17                 11                   5   \n",
       "3              1                    10                 24                   4   \n",
       "4              4                     2                 29                   7   \n",
       "\n",
       "   publications  influence  citations  broad_impact  patents   score  year  \n",
       "0             1          1          1           NaN        5  100.00  2012  \n",
       "1            12          4          4           NaN        1   91.67  2012  \n",
       "2             4          2          2           NaN       15   89.50  2012  \n",
       "3            16         16         11           NaN       50   86.17  2012  \n",
       "4            37         22         22           NaN       18   85.21  2012  "
      ]
     },
     "execution_count": 55,
     "metadata": {},
     "output_type": "execute_result"
    }
   ],
   "source": [
    "rank.head(5)"
   ]
  },
  {
   "cell_type": "code",
   "execution_count": 56,
   "metadata": {},
   "outputs": [
    {
     "name": "stdout",
     "output_type": "stream",
     "text": [
      "<class 'pandas.core.frame.DataFrame'>\n",
      "RangeIndex: 2200 entries, 0 to 2199\n",
      "Data columns (total 14 columns):\n",
      " #   Column                Non-Null Count  Dtype  \n",
      "---  ------                --------------  -----  \n",
      " 0   world_rank            2200 non-null   int64  \n",
      " 1   institution           2200 non-null   object \n",
      " 2   country               2200 non-null   object \n",
      " 3   national_rank         2200 non-null   int64  \n",
      " 4   quality_of_education  2200 non-null   int64  \n",
      " 5   alumni_employment     2200 non-null   int64  \n",
      " 6   quality_of_faculty    2200 non-null   int64  \n",
      " 7   publications          2200 non-null   int64  \n",
      " 8   influence             2200 non-null   int64  \n",
      " 9   citations             2200 non-null   int64  \n",
      " 10  broad_impact          2000 non-null   float64\n",
      " 11  patents               2200 non-null   int64  \n",
      " 12  score                 2200 non-null   float64\n",
      " 13  year                  2200 non-null   int64  \n",
      "dtypes: float64(2), int64(10), object(2)\n",
      "memory usage: 240.8+ KB\n"
     ]
    }
   ],
   "source": [
    "rank.info()"
   ]
  },
  {
   "cell_type": "markdown",
   "metadata": {},
   "source": [
    "#### Add college ranking data to full data and export to csv"
   ]
  },
  {
   "cell_type": "code",
   "execution_count": 57,
   "metadata": {},
   "outputs": [],
   "source": [
    "# filter only USA country\n",
    "rank = rank[(rank['country'] == 'USA')&(rank['year']==2015)]\n",
    "rank = rank.drop(columns = ['quality_of_education', 'alumni_employment', 'quality_of_faculty',\\\n",
    "       'publications', 'influence', 'citations', 'broad_impact', 'patents',\\\n",
    "       'score', 'year', 'country','world_rank'])\n",
    "rank.columns = ['college','rank']\n",
    "full_data = full_data.merge(rank,on='college')\n",
    "full_data.to_csv('../data/full_data.csv')"
   ]
  },
  {
   "cell_type": "code",
   "execution_count": 58,
   "metadata": {},
   "outputs": [],
   "source": [
    "# use the classified ranking college function\n",
    "numeric_rank(full_data['rank'])"
   ]
  },
  {
   "cell_type": "markdown",
   "metadata": {},
   "source": [
    "## Exploratory Data Analysis\n"
   ]
  },
  {
   "cell_type": "markdown",
   "metadata": {},
   "source": [
    "### Summary Statistics"
   ]
  },
  {
   "cell_type": "code",
   "execution_count": 59,
   "metadata": {},
   "outputs": [
    {
     "data": {
      "text/html": [
       "<div>\n",
       "<style scoped>\n",
       "    .dataframe tbody tr th:only-of-type {\n",
       "        vertical-align: middle;\n",
       "    }\n",
       "\n",
       "    .dataframe tbody tr th {\n",
       "        vertical-align: top;\n",
       "    }\n",
       "\n",
       "    .dataframe thead th {\n",
       "        text-align: right;\n",
       "    }\n",
       "</style>\n",
       "<table border=\"1\" class=\"dataframe\">\n",
       "  <thead>\n",
       "    <tr style=\"text-align: right;\">\n",
       "      <th></th>\n",
       "      <th>applicants</th>\n",
       "      <th>accept_rate</th>\n",
       "      <th>sat_25%</th>\n",
       "      <th>sat_75%</th>\n",
       "      <th>act_25%</th>\n",
       "      <th>act_75%</th>\n",
       "      <th>z_75_sat</th>\n",
       "      <th>z_75_act</th>\n",
       "      <th>eng_act</th>\n",
       "      <th>math_act</th>\n",
       "      <th>reading_act</th>\n",
       "      <th>science_act</th>\n",
       "      <th>composite_act</th>\n",
       "      <th>participation_ratio_act</th>\n",
       "      <th>ebrw_sat</th>\n",
       "      <th>math_sat</th>\n",
       "      <th>total_sat</th>\n",
       "      <th>participation_ratio_sat</th>\n",
       "      <th>rank</th>\n",
       "      <th>rank_num</th>\n",
       "    </tr>\n",
       "  </thead>\n",
       "  <tbody>\n",
       "    <tr>\n",
       "      <th>count</th>\n",
       "      <td>90.000000</td>\n",
       "      <td>90.000000</td>\n",
       "      <td>90.000000</td>\n",
       "      <td>90.000000</td>\n",
       "      <td>90.000000</td>\n",
       "      <td>90.000000</td>\n",
       "      <td>90.000000</td>\n",
       "      <td>90.000000</td>\n",
       "      <td>90.000000</td>\n",
       "      <td>90.000000</td>\n",
       "      <td>90.000000</td>\n",
       "      <td>90.000000</td>\n",
       "      <td>90.000000</td>\n",
       "      <td>90.000000</td>\n",
       "      <td>90.000000</td>\n",
       "      <td>90.000000</td>\n",
       "      <td>90.000000</td>\n",
       "      <td>90.000000</td>\n",
       "      <td>90.000000</td>\n",
       "      <td>90.000000</td>\n",
       "    </tr>\n",
       "    <tr>\n",
       "      <th>mean</th>\n",
       "      <td>26078.511111</td>\n",
       "      <td>0.476311</td>\n",
       "      <td>1233.577778</td>\n",
       "      <td>1411.388889</td>\n",
       "      <td>26.600000</td>\n",
       "      <td>31.244444</td>\n",
       "      <td>0.368504</td>\n",
       "      <td>0.371354</td>\n",
       "      <td>21.872222</td>\n",
       "      <td>22.025556</td>\n",
       "      <td>22.850000</td>\n",
       "      <td>22.137778</td>\n",
       "      <td>22.345556</td>\n",
       "      <td>0.540889</td>\n",
       "      <td>554.800000</td>\n",
       "      <td>543.688889</td>\n",
       "      <td>1098.755556</td>\n",
       "      <td>0.512444</td>\n",
       "      <td>98.988889</td>\n",
       "      <td>1.811111</td>\n",
       "    </tr>\n",
       "    <tr>\n",
       "      <th>std</th>\n",
       "      <td>14857.413008</td>\n",
       "      <td>0.289538</td>\n",
       "      <td>153.738869</td>\n",
       "      <td>115.123353</td>\n",
       "      <td>4.641774</td>\n",
       "      <td>3.145573</td>\n",
       "      <td>0.587063</td>\n",
       "      <td>0.609948</td>\n",
       "      <td>2.310554</td>\n",
       "      <td>2.007377</td>\n",
       "      <td>1.986259</td>\n",
       "      <td>1.758356</td>\n",
       "      <td>1.999447</td>\n",
       "      <td>0.290937</td>\n",
       "      <td>37.697256</td>\n",
       "      <td>38.491687</td>\n",
       "      <td>75.813982</td>\n",
       "      <td>0.319506</td>\n",
       "      <td>63.012660</td>\n",
       "      <td>0.777412</td>\n",
       "    </tr>\n",
       "    <tr>\n",
       "      <th>min</th>\n",
       "      <td>1508.000000</td>\n",
       "      <td>0.043000</td>\n",
       "      <td>940.000000</td>\n",
       "      <td>1150.000000</td>\n",
       "      <td>17.000000</td>\n",
       "      <td>23.000000</td>\n",
       "      <td>-0.964429</td>\n",
       "      <td>-1.227299</td>\n",
       "      <td>17.500000</td>\n",
       "      <td>18.100000</td>\n",
       "      <td>18.800000</td>\n",
       "      <td>18.800000</td>\n",
       "      <td>18.600000</td>\n",
       "      <td>0.180000</td>\n",
       "      <td>503.000000</td>\n",
       "      <td>492.000000</td>\n",
       "      <td>996.000000</td>\n",
       "      <td>0.020000</td>\n",
       "      <td>2.000000</td>\n",
       "      <td>1.000000</td>\n",
       "    </tr>\n",
       "    <tr>\n",
       "      <th>25%</th>\n",
       "      <td>15665.750000</td>\n",
       "      <td>0.169000</td>\n",
       "      <td>1120.000000</td>\n",
       "      <td>1320.000000</td>\n",
       "      <td>22.250000</td>\n",
       "      <td>29.000000</td>\n",
       "      <td>-0.097526</td>\n",
       "      <td>-0.063859</td>\n",
       "      <td>19.725000</td>\n",
       "      <td>20.400000</td>\n",
       "      <td>21.100000</td>\n",
       "      <td>20.900000</td>\n",
       "      <td>20.700000</td>\n",
       "      <td>0.290000</td>\n",
       "      <td>528.500000</td>\n",
       "      <td>520.250000</td>\n",
       "      <td>1052.000000</td>\n",
       "      <td>0.120000</td>\n",
       "      <td>47.250000</td>\n",
       "      <td>1.000000</td>\n",
       "    </tr>\n",
       "    <tr>\n",
       "      <th>50%</th>\n",
       "      <td>23031.000000</td>\n",
       "      <td>0.506000</td>\n",
       "      <td>1195.000000</td>\n",
       "      <td>1395.000000</td>\n",
       "      <td>26.000000</td>\n",
       "      <td>31.000000</td>\n",
       "      <td>0.284930</td>\n",
       "      <td>0.323955</td>\n",
       "      <td>21.200000</td>\n",
       "      <td>21.600000</td>\n",
       "      <td>22.600000</td>\n",
       "      <td>22.100000</td>\n",
       "      <td>22.000000</td>\n",
       "      <td>0.400000</td>\n",
       "      <td>541.000000</td>\n",
       "      <td>531.000000</td>\n",
       "      <td>1071.000000</td>\n",
       "      <td>0.620000</td>\n",
       "      <td>99.500000</td>\n",
       "      <td>2.000000</td>\n",
       "    </tr>\n",
       "    <tr>\n",
       "      <th>75%</th>\n",
       "      <td>35337.500000</td>\n",
       "      <td>0.728250</td>\n",
       "      <td>1365.000000</td>\n",
       "      <td>1520.000000</td>\n",
       "      <td>31.000000</td>\n",
       "      <td>34.000000</td>\n",
       "      <td>0.922358</td>\n",
       "      <td>0.905675</td>\n",
       "      <td>23.800000</td>\n",
       "      <td>23.700000</td>\n",
       "      <td>24.600000</td>\n",
       "      <td>23.750000</td>\n",
       "      <td>24.100000</td>\n",
       "      <td>0.750000</td>\n",
       "      <td>562.750000</td>\n",
       "      <td>556.000000</td>\n",
       "      <td>1115.750000</td>\n",
       "      <td>0.707500</td>\n",
       "      <td>148.500000</td>\n",
       "      <td>2.000000</td>\n",
       "    </tr>\n",
       "    <tr>\n",
       "      <th>max</th>\n",
       "      <td>79462.000000</td>\n",
       "      <td>0.960000</td>\n",
       "      <td>1530.000000</td>\n",
       "      <td>1570.000000</td>\n",
       "      <td>35.000000</td>\n",
       "      <td>36.000000</td>\n",
       "      <td>1.177329</td>\n",
       "      <td>1.293488</td>\n",
       "      <td>25.500000</td>\n",
       "      <td>25.300000</td>\n",
       "      <td>26.000000</td>\n",
       "      <td>24.900000</td>\n",
       "      <td>25.500000</td>\n",
       "      <td>1.000000</td>\n",
       "      <td>642.000000</td>\n",
       "      <td>649.000000</td>\n",
       "      <td>1291.000000</td>\n",
       "      <td>1.000000</td>\n",
       "      <td>227.000000</td>\n",
       "      <td>3.000000</td>\n",
       "    </tr>\n",
       "  </tbody>\n",
       "</table>\n",
       "</div>"
      ],
      "text/plain": [
       "         applicants  accept_rate      sat_25%      sat_75%    act_25%  \\\n",
       "count     90.000000    90.000000    90.000000    90.000000  90.000000   \n",
       "mean   26078.511111     0.476311  1233.577778  1411.388889  26.600000   \n",
       "std    14857.413008     0.289538   153.738869   115.123353   4.641774   \n",
       "min     1508.000000     0.043000   940.000000  1150.000000  17.000000   \n",
       "25%    15665.750000     0.169000  1120.000000  1320.000000  22.250000   \n",
       "50%    23031.000000     0.506000  1195.000000  1395.000000  26.000000   \n",
       "75%    35337.500000     0.728250  1365.000000  1520.000000  31.000000   \n",
       "max    79462.000000     0.960000  1530.000000  1570.000000  35.000000   \n",
       "\n",
       "         act_75%   z_75_sat   z_75_act    eng_act   math_act  reading_act  \\\n",
       "count  90.000000  90.000000  90.000000  90.000000  90.000000    90.000000   \n",
       "mean   31.244444   0.368504   0.371354  21.872222  22.025556    22.850000   \n",
       "std     3.145573   0.587063   0.609948   2.310554   2.007377     1.986259   \n",
       "min    23.000000  -0.964429  -1.227299  17.500000  18.100000    18.800000   \n",
       "25%    29.000000  -0.097526  -0.063859  19.725000  20.400000    21.100000   \n",
       "50%    31.000000   0.284930   0.323955  21.200000  21.600000    22.600000   \n",
       "75%    34.000000   0.922358   0.905675  23.800000  23.700000    24.600000   \n",
       "max    36.000000   1.177329   1.293488  25.500000  25.300000    26.000000   \n",
       "\n",
       "       science_act  composite_act  participation_ratio_act    ebrw_sat  \\\n",
       "count    90.000000      90.000000                90.000000   90.000000   \n",
       "mean     22.137778      22.345556                 0.540889  554.800000   \n",
       "std       1.758356       1.999447                 0.290937   37.697256   \n",
       "min      18.800000      18.600000                 0.180000  503.000000   \n",
       "25%      20.900000      20.700000                 0.290000  528.500000   \n",
       "50%      22.100000      22.000000                 0.400000  541.000000   \n",
       "75%      23.750000      24.100000                 0.750000  562.750000   \n",
       "max      24.900000      25.500000                 1.000000  642.000000   \n",
       "\n",
       "         math_sat    total_sat  participation_ratio_sat        rank   rank_num  \n",
       "count   90.000000    90.000000                90.000000   90.000000  90.000000  \n",
       "mean   543.688889  1098.755556                 0.512444   98.988889   1.811111  \n",
       "std     38.491687    75.813982                 0.319506   63.012660   0.777412  \n",
       "min    492.000000   996.000000                 0.020000    2.000000   1.000000  \n",
       "25%    520.250000  1052.000000                 0.120000   47.250000   1.000000  \n",
       "50%    531.000000  1071.000000                 0.620000   99.500000   2.000000  \n",
       "75%    556.000000  1115.750000                 0.707500  148.500000   2.000000  \n",
       "max    649.000000  1291.000000                 1.000000  227.000000   3.000000  "
      ]
     },
     "execution_count": 59,
     "metadata": {},
     "output_type": "execute_result"
    }
   ],
   "source": [
    "full_data.describe()"
   ]
  },
  {
   "cell_type": "markdown",
   "metadata": {},
   "source": [
    "### What state has the highest participation rate in ACT test?\n",
    "- Alabama, Kentucky ,and  Wisconsin has the highest participation rate in ACT test"
   ]
  },
  {
   "cell_type": "code",
   "execution_count": 60,
   "metadata": {},
   "outputs": [
    {
     "data": {
      "text/html": [
       "<div>\n",
       "<style scoped>\n",
       "    .dataframe tbody tr th:only-of-type {\n",
       "        vertical-align: middle;\n",
       "    }\n",
       "\n",
       "    .dataframe tbody tr th {\n",
       "        vertical-align: top;\n",
       "    }\n",
       "\n",
       "    .dataframe thead th {\n",
       "        text-align: right;\n",
       "    }\n",
       "</style>\n",
       "<table border=\"1\" class=\"dataframe\">\n",
       "  <thead>\n",
       "    <tr style=\"text-align: right;\">\n",
       "      <th></th>\n",
       "      <th>participation_ratio_act</th>\n",
       "      <th>participation_ratio_sat</th>\n",
       "    </tr>\n",
       "    <tr>\n",
       "      <th>state</th>\n",
       "      <th></th>\n",
       "      <th></th>\n",
       "    </tr>\n",
       "  </thead>\n",
       "  <tbody>\n",
       "    <tr>\n",
       "      <th>Alabama</th>\n",
       "      <td>1.0</td>\n",
       "      <td>0.05</td>\n",
       "    </tr>\n",
       "    <tr>\n",
       "      <th>Kentucky</th>\n",
       "      <td>1.0</td>\n",
       "      <td>0.04</td>\n",
       "    </tr>\n",
       "    <tr>\n",
       "      <th>Wisconsin</th>\n",
       "      <td>1.0</td>\n",
       "      <td>0.03</td>\n",
       "    </tr>\n",
       "  </tbody>\n",
       "</table>\n",
       "</div>"
      ],
      "text/plain": [
       "           participation_ratio_act  participation_ratio_sat\n",
       "state                                                      \n",
       "Alabama                        1.0                     0.05\n",
       "Kentucky                       1.0                     0.04\n",
       "Wisconsin                      1.0                     0.03"
      ]
     },
     "execution_count": 60,
     "metadata": {},
     "output_type": "execute_result"
    }
   ],
   "source": [
    "full_data.groupby('state')[['participation_ratio_act','participation_ratio_sat']].mean().sort_values(by='participation_ratio_act',ascending=False).head(3)"
   ]
  },
  {
   "cell_type": "markdown",
   "metadata": {},
   "source": [
    "### Which state has the highest SAT score ? \n",
    "\n",
    " - The states that got highest avg SAT score, mean that there is the high standard in SAT test beacause of some group of student who want to proof them self to be out of standard. For that reason the SAT score go up high than usual."
   ]
  },
  {
   "cell_type": "code",
   "execution_count": 61,
   "metadata": {
    "scrolled": true
   },
   "outputs": [
    {
     "data": {
      "text/html": [
       "<div>\n",
       "<style scoped>\n",
       "    .dataframe tbody tr th:only-of-type {\n",
       "        vertical-align: middle;\n",
       "    }\n",
       "\n",
       "    .dataframe tbody tr th {\n",
       "        vertical-align: top;\n",
       "    }\n",
       "\n",
       "    .dataframe thead th {\n",
       "        text-align: right;\n",
       "    }\n",
       "</style>\n",
       "<table border=\"1\" class=\"dataframe\">\n",
       "  <thead>\n",
       "    <tr style=\"text-align: right;\">\n",
       "      <th></th>\n",
       "      <th>code</th>\n",
       "      <th>total_sat</th>\n",
       "      <th>participation_ratio_act</th>\n",
       "      <th>participation_ratio_sat</th>\n",
       "      <th>z_75_sat</th>\n",
       "      <th>z_75_act</th>\n",
       "      <th>composite_act</th>\n",
       "    </tr>\n",
       "  </thead>\n",
       "  <tbody>\n",
       "    <tr>\n",
       "      <th>0</th>\n",
       "      <td>WI</td>\n",
       "      <td>1291.0</td>\n",
       "      <td>1.00</td>\n",
       "      <td>0.03</td>\n",
       "      <td>-0.097526</td>\n",
       "      <td>-0.063859</td>\n",
       "      <td>20.5</td>\n",
       "    </tr>\n",
       "    <tr>\n",
       "      <th>1</th>\n",
       "      <td>IA</td>\n",
       "      <td>1275.0</td>\n",
       "      <td>0.67</td>\n",
       "      <td>0.02</td>\n",
       "      <td>0.004462</td>\n",
       "      <td>-0.160812</td>\n",
       "      <td>21.9</td>\n",
       "    </tr>\n",
       "    <tr>\n",
       "      <th>2</th>\n",
       "      <td>MO</td>\n",
       "      <td>1271.0</td>\n",
       "      <td>1.00</td>\n",
       "      <td>0.03</td>\n",
       "      <td>0.667387</td>\n",
       "      <td>0.711768</td>\n",
       "      <td>20.4</td>\n",
       "    </tr>\n",
       "    <tr>\n",
       "      <th>3</th>\n",
       "      <td>ND</td>\n",
       "      <td>1256.0</td>\n",
       "      <td>0.98</td>\n",
       "      <td>0.02</td>\n",
       "      <td>-0.454486</td>\n",
       "      <td>-0.645579</td>\n",
       "      <td>20.3</td>\n",
       "    </tr>\n",
       "    <tr>\n",
       "      <th>4</th>\n",
       "      <td>NE</td>\n",
       "      <td>1253.0</td>\n",
       "      <td>0.84</td>\n",
       "      <td>0.03</td>\n",
       "      <td>0.055456</td>\n",
       "      <td>0.130048</td>\n",
       "      <td>21.4</td>\n",
       "    </tr>\n",
       "  </tbody>\n",
       "</table>\n",
       "</div>"
      ],
      "text/plain": [
       "  code  total_sat  participation_ratio_act  participation_ratio_sat  z_75_sat  \\\n",
       "0   WI     1291.0                     1.00                     0.03 -0.097526   \n",
       "1   IA     1275.0                     0.67                     0.02  0.004462   \n",
       "2   MO     1271.0                     1.00                     0.03  0.667387   \n",
       "3   ND     1256.0                     0.98                     0.02 -0.454486   \n",
       "4   NE     1253.0                     0.84                     0.03  0.055456   \n",
       "\n",
       "   z_75_act  composite_act  \n",
       "0 -0.063859           20.5  \n",
       "1 -0.160812           21.9  \n",
       "2  0.711768           20.4  \n",
       "3 -0.645579           20.3  \n",
       "4  0.130048           21.4  "
      ]
     },
     "execution_count": 61,
     "metadata": {},
     "output_type": "execute_result"
    }
   ],
   "source": [
    "sat_highest = full_data.groupby('code')[['total_sat','participation_ratio_act','participation_ratio_sat','z_75_sat','z_75_act','composite_act']].mean().sort_values(by = ['total_sat'],ascending=False).reset_index()\n",
    "sat_highest.head(5)"
   ]
  },
  {
   "cell_type": "markdown",
   "metadata": {},
   "source": [
    "### Do any states show have the same 50% participation on *both* tests ?\n",
    "- There are **None** of this"
   ]
  },
  {
   "cell_type": "code",
   "execution_count": 62,
   "metadata": {},
   "outputs": [
    {
     "data": {
      "text/html": [
       "<div>\n",
       "<style scoped>\n",
       "    .dataframe tbody tr th:only-of-type {\n",
       "        vertical-align: middle;\n",
       "    }\n",
       "\n",
       "    .dataframe tbody tr th {\n",
       "        vertical-align: top;\n",
       "    }\n",
       "\n",
       "    .dataframe thead th {\n",
       "        text-align: right;\n",
       "    }\n",
       "</style>\n",
       "<table border=\"1\" class=\"dataframe\">\n",
       "  <thead>\n",
       "    <tr style=\"text-align: right;\">\n",
       "      <th></th>\n",
       "      <th>college</th>\n",
       "      <th>freedom_pick</th>\n",
       "      <th>applicants</th>\n",
       "      <th>accept_rate</th>\n",
       "      <th>sat_25%</th>\n",
       "      <th>sat_75%</th>\n",
       "      <th>act_25%</th>\n",
       "      <th>act_75%</th>\n",
       "      <th>z_75_sat</th>\n",
       "      <th>z_75_act</th>\n",
       "      <th>...</th>\n",
       "      <th>reading_act</th>\n",
       "      <th>science_act</th>\n",
       "      <th>composite_act</th>\n",
       "      <th>participation_ratio_act</th>\n",
       "      <th>ebrw_sat</th>\n",
       "      <th>math_sat</th>\n",
       "      <th>total_sat</th>\n",
       "      <th>participation_ratio_sat</th>\n",
       "      <th>rank</th>\n",
       "      <th>rank_num</th>\n",
       "    </tr>\n",
       "  </thead>\n",
       "  <tbody>\n",
       "  </tbody>\n",
       "</table>\n",
       "<p>0 rows × 25 columns</p>\n",
       "</div>"
      ],
      "text/plain": [
       "Empty DataFrame\n",
       "Columns: [college, freedom_pick, applicants, accept_rate, sat_25%, sat_75%, act_25%, act_75%, z_75_sat, z_75_act, state, abbrev, code, eng_act, math_act, reading_act, science_act, composite_act, participation_ratio_act, ebrw_sat, math_sat, total_sat, participation_ratio_sat, rank, rank_num]\n",
       "Index: []\n",
       "\n",
       "[0 rows x 25 columns]"
      ]
     },
     "execution_count": 62,
     "metadata": {},
     "output_type": "execute_result"
    }
   ],
   "source": [
    "full_data[(full_data['participation_ratio_act']==0.5)&(full_data['participation_ratio_sat']==0.5)]"
   ]
  },
  {
   "cell_type": "markdown",
   "metadata": {},
   "source": [
    "### What is highest mean score of ACT ? and What are the ACT 75 percentiles of those?\n",
    "- The average ACT score in each state is very low conversely to the act 75 percentile score."
   ]
  },
  {
   "cell_type": "code",
   "execution_count": 63,
   "metadata": {},
   "outputs": [
    {
     "data": {
      "text/html": [
       "<div>\n",
       "<style scoped>\n",
       "    .dataframe tbody tr th:only-of-type {\n",
       "        vertical-align: middle;\n",
       "    }\n",
       "\n",
       "    .dataframe tbody tr th {\n",
       "        vertical-align: top;\n",
       "    }\n",
       "\n",
       "    .dataframe thead th {\n",
       "        text-align: right;\n",
       "    }\n",
       "</style>\n",
       "<table border=\"1\" class=\"dataframe\">\n",
       "  <thead>\n",
       "    <tr style=\"text-align: right;\">\n",
       "      <th></th>\n",
       "      <th>code</th>\n",
       "      <th>composite_act</th>\n",
       "      <th>act_75%</th>\n",
       "    </tr>\n",
       "  </thead>\n",
       "  <tbody>\n",
       "    <tr>\n",
       "      <th>0</th>\n",
       "      <td>NH</td>\n",
       "      <td>25.5</td>\n",
       "      <td>31.500000</td>\n",
       "    </tr>\n",
       "    <tr>\n",
       "      <th>1</th>\n",
       "      <td>MA</td>\n",
       "      <td>25.4</td>\n",
       "      <td>34.166667</td>\n",
       "    </tr>\n",
       "    <tr>\n",
       "      <th>2</th>\n",
       "      <td>CT</td>\n",
       "      <td>25.2</td>\n",
       "      <td>33.333333</td>\n",
       "    </tr>\n",
       "  </tbody>\n",
       "</table>\n",
       "</div>"
      ],
      "text/plain": [
       "  code  composite_act    act_75%\n",
       "0   NH           25.5  31.500000\n",
       "1   MA           25.4  34.166667\n",
       "2   CT           25.2  33.333333"
      ]
     },
     "execution_count": 63,
     "metadata": {},
     "output_type": "execute_result"
    }
   ],
   "source": [
    "act_highest = full_data.groupby('code')[['composite_act','act_75%']].mean().sort_values(by = ['composite_act'],ascending=False).reset_index()\n",
    "act_highest.head(3)"
   ]
  },
  {
   "cell_type": "markdown",
   "metadata": {},
   "source": [
    "### In the state that giving student free to choose the test, do the participation rate on test has an influence to the percentiles score of the test?\n",
    "- For all states where test selection is not compulsory, the average act score seem to become closer to the ACT 75 percentiles score"
   ]
  },
  {
   "cell_type": "code",
   "execution_count": 64,
   "metadata": {
    "scrolled": true
   },
   "outputs": [
    {
     "data": {
      "text/html": [
       "<div>\n",
       "<style scoped>\n",
       "    .dataframe tbody tr th:only-of-type {\n",
       "        vertical-align: middle;\n",
       "    }\n",
       "\n",
       "    .dataframe tbody tr th {\n",
       "        vertical-align: top;\n",
       "    }\n",
       "\n",
       "    .dataframe thead th {\n",
       "        text-align: right;\n",
       "    }\n",
       "</style>\n",
       "<table border=\"1\" class=\"dataframe\">\n",
       "  <thead>\n",
       "    <tr style=\"text-align: right;\">\n",
       "      <th></th>\n",
       "      <th>code</th>\n",
       "      <th>freedom_pick</th>\n",
       "      <th>total_sat</th>\n",
       "      <th>participation_ratio_act</th>\n",
       "      <th>participation_ratio_sat</th>\n",
       "      <th>z_75_sat</th>\n",
       "      <th>z_75_act</th>\n",
       "      <th>composite_act</th>\n",
       "      <th>act_75%</th>\n",
       "      <th>sat_75%</th>\n",
       "    </tr>\n",
       "  </thead>\n",
       "  <tbody>\n",
       "    <tr>\n",
       "      <th>3</th>\n",
       "      <td>ID</td>\n",
       "      <td>Yes</td>\n",
       "      <td>1005.0</td>\n",
       "      <td>0.38</td>\n",
       "      <td>0.93</td>\n",
       "      <td>0.994520</td>\n",
       "      <td>1.048328</td>\n",
       "      <td>22.3</td>\n",
       "      <td>27.000000</td>\n",
       "      <td>1240.000000</td>\n",
       "    </tr>\n",
       "    <tr>\n",
       "      <th>13</th>\n",
       "      <td>VA</td>\n",
       "      <td>Yes*</td>\n",
       "      <td>1102.0</td>\n",
       "      <td>0.29</td>\n",
       "      <td>0.65</td>\n",
       "      <td>1.096508</td>\n",
       "      <td>1.242235</td>\n",
       "      <td>23.8</td>\n",
       "      <td>28.000000</td>\n",
       "      <td>1260.000000</td>\n",
       "    </tr>\n",
       "    <tr>\n",
       "      <th>7</th>\n",
       "      <td>MI</td>\n",
       "      <td>Yes</td>\n",
       "      <td>1005.0</td>\n",
       "      <td>0.29</td>\n",
       "      <td>1.00</td>\n",
       "      <td>1.334481</td>\n",
       "      <td>1.371506</td>\n",
       "      <td>24.1</td>\n",
       "      <td>28.666667</td>\n",
       "      <td>1306.666667</td>\n",
       "    </tr>\n",
       "    <tr>\n",
       "      <th>1</th>\n",
       "      <td>CA</td>\n",
       "      <td>Yes (TB)</td>\n",
       "      <td>1055.0</td>\n",
       "      <td>0.31</td>\n",
       "      <td>0.53</td>\n",
       "      <td>1.580953</td>\n",
       "      <td>1.533095</td>\n",
       "      <td>22.8</td>\n",
       "      <td>29.500000</td>\n",
       "      <td>1355.000000</td>\n",
       "    </tr>\n",
       "    <tr>\n",
       "      <th>14</th>\n",
       "      <td>VT</td>\n",
       "      <td>Yes</td>\n",
       "      <td>1114.0</td>\n",
       "      <td>0.29</td>\n",
       "      <td>0.60</td>\n",
       "      <td>1.606450</td>\n",
       "      <td>1.823955</td>\n",
       "      <td>23.6</td>\n",
       "      <td>31.000000</td>\n",
       "      <td>1360.000000</td>\n",
       "    </tr>\n",
       "  </tbody>\n",
       "</table>\n",
       "</div>"
      ],
      "text/plain": [
       "   code freedom_pick  total_sat  participation_ratio_act  \\\n",
       "3    ID          Yes     1005.0                     0.38   \n",
       "13   VA         Yes*     1102.0                     0.29   \n",
       "7    MI          Yes     1005.0                     0.29   \n",
       "1    CA     Yes (TB)     1055.0                     0.31   \n",
       "14   VT          Yes     1114.0                     0.29   \n",
       "\n",
       "    participation_ratio_sat  z_75_sat  z_75_act  composite_act    act_75%  \\\n",
       "3                      0.93  0.994520  1.048328           22.3  27.000000   \n",
       "13                     0.65  1.096508  1.242235           23.8  28.000000   \n",
       "7                      1.00  1.334481  1.371506           24.1  28.666667   \n",
       "1                      0.53  1.580953  1.533095           22.8  29.500000   \n",
       "14                     0.60  1.606450  1.823955           23.6  31.000000   \n",
       "\n",
       "        sat_75%  \n",
       "3   1240.000000  \n",
       "13  1260.000000  \n",
       "7   1306.666667  \n",
       "1   1355.000000  \n",
       "14  1360.000000  "
      ]
     },
     "execution_count": 64,
     "metadata": {},
     "output_type": "execute_result"
    }
   ],
   "source": [
    "# gather the data with having ACT/ SAT participation rate between 0.2-0.8 and also have free to choose the test.\n",
    "#act_7_2 = full_data[(full_data['participation_ratio_sat'] < 0.8) & (full_data['participation_ratio_sat'] > 0.2) &(full_data['participation_ratio_act'] <0.8) & (full_data['participation_ratio_act'] > 0.2) & (full_data['freedom_pick'] != 'No')]\n",
    "\n",
    "act_7_2 = full_data[(full_data['participation_ratio_act'] <0.4) & (full_data['participation_ratio_act'] >0.2) & (full_data['freedom_pick'] != 'No')]\n",
    "\n",
    "act_7_2 = act_7_2.groupby(['code','freedom_pick'])[['total_sat','participation_ratio_act','participation_ratio_sat','z_75_sat','z_75_act','composite_act','act_75%','sat_75%']].mean()\n",
    "# make all values become positive\n",
    "act_7_2['z_75_act'] = act_7_2['z_75_act']+1.5\n",
    "act_7_2['z_75_sat'] = act_7_2['z_75_sat']+1.5\n",
    "act_7_2.reset_index(inplace=True)\n",
    "act_7_2 = act_7_2.sort_values(by = 'z_75_act')\n",
    "act_7_2.head()"
   ]
  },
  {
   "cell_type": "markdown",
   "metadata": {},
   "source": [
    "### Which state has high SAT score??\n",
    "- The state with low acceptance rate will have high SAT 75 percentile score and will assume that the state will contain high rank college "
   ]
  },
  {
   "cell_type": "code",
   "execution_count": 65,
   "metadata": {
    "scrolled": true
   },
   "outputs": [
    {
     "data": {
      "text/html": [
       "<div>\n",
       "<style scoped>\n",
       "    .dataframe tbody tr th:only-of-type {\n",
       "        vertical-align: middle;\n",
       "    }\n",
       "\n",
       "    .dataframe tbody tr th {\n",
       "        vertical-align: top;\n",
       "    }\n",
       "\n",
       "    .dataframe thead th {\n",
       "        text-align: right;\n",
       "    }\n",
       "</style>\n",
       "<table border=\"1\" class=\"dataframe\">\n",
       "  <thead>\n",
       "    <tr style=\"text-align: right;\">\n",
       "      <th></th>\n",
       "      <th></th>\n",
       "      <th></th>\n",
       "      <th>participation_ratio_sat</th>\n",
       "      <th>sat_75%</th>\n",
       "      <th>accept_rate</th>\n",
       "      <th>total_sat</th>\n",
       "    </tr>\n",
       "    <tr>\n",
       "      <th>state</th>\n",
       "      <th>code</th>\n",
       "      <th>rank</th>\n",
       "      <th></th>\n",
       "      <th></th>\n",
       "      <th></th>\n",
       "      <th></th>\n",
       "    </tr>\n",
       "  </thead>\n",
       "  <tbody>\n",
       "    <tr>\n",
       "      <th>California</th>\n",
       "      <th>CA</th>\n",
       "      <th>2</th>\n",
       "      <td>0.53</td>\n",
       "      <td>1570.0</td>\n",
       "      <td>0.043</td>\n",
       "      <td>1055.0</td>\n",
       "    </tr>\n",
       "    <tr>\n",
       "      <th>New Jersey</th>\n",
       "      <th>NJ</th>\n",
       "      <th>7</th>\n",
       "      <td>0.70</td>\n",
       "      <td>1570.0</td>\n",
       "      <td>0.055</td>\n",
       "      <td>1056.0</td>\n",
       "    </tr>\n",
       "    <tr>\n",
       "      <th>New York</th>\n",
       "      <th>NY</th>\n",
       "      <th>4</th>\n",
       "      <td>0.67</td>\n",
       "      <td>1560.0</td>\n",
       "      <td>0.055</td>\n",
       "      <td>1052.0</td>\n",
       "    </tr>\n",
       "    <tr>\n",
       "      <th>Connecticut</th>\n",
       "      <th>CT</th>\n",
       "      <th>9</th>\n",
       "      <td>1.00</td>\n",
       "      <td>1570.0</td>\n",
       "      <td>0.061</td>\n",
       "      <td>1041.0</td>\n",
       "    </tr>\n",
       "    <tr>\n",
       "      <th>California</th>\n",
       "      <th>CA</th>\n",
       "      <th>10</th>\n",
       "      <td>0.53</td>\n",
       "      <td>1560.0</td>\n",
       "      <td>0.064</td>\n",
       "      <td>1055.0</td>\n",
       "    </tr>\n",
       "    <tr>\n",
       "      <th>Massachusetts</th>\n",
       "      <th>MA</th>\n",
       "      <th>3</th>\n",
       "      <td>0.76</td>\n",
       "      <td>1570.0</td>\n",
       "      <td>0.067</td>\n",
       "      <td>1107.0</td>\n",
       "    </tr>\n",
       "    <tr>\n",
       "      <th>Rhode Island</th>\n",
       "      <th>RI</th>\n",
       "      <th>50</th>\n",
       "      <td>0.71</td>\n",
       "      <td>1570.0</td>\n",
       "      <td>0.071</td>\n",
       "      <td>1062.0</td>\n",
       "    </tr>\n",
       "    <tr>\n",
       "      <th>Illinois</th>\n",
       "      <th>IL</th>\n",
       "      <th>6</th>\n",
       "      <td>0.09</td>\n",
       "      <td>1570.0</td>\n",
       "      <td>0.073</td>\n",
       "      <td>1115.0</td>\n",
       "    </tr>\n",
       "    <tr>\n",
       "      <th>Pennsylvania</th>\n",
       "      <th>PA</th>\n",
       "      <th>11</th>\n",
       "      <td>0.65</td>\n",
       "      <td>1560.0</td>\n",
       "      <td>0.077</td>\n",
       "      <td>1071.0</td>\n",
       "    </tr>\n",
       "    <tr>\n",
       "      <th>New Hampshire</th>\n",
       "      <th>NH</th>\n",
       "      <th>28</th>\n",
       "      <td>0.96</td>\n",
       "      <td>1560.0</td>\n",
       "      <td>0.079</td>\n",
       "      <td>1052.0</td>\n",
       "    </tr>\n",
       "  </tbody>\n",
       "</table>\n",
       "</div>"
      ],
      "text/plain": [
       "                         participation_ratio_sat  sat_75%  accept_rate  \\\n",
       "state         code rank                                                  \n",
       "California    CA   2                        0.53   1570.0        0.043   \n",
       "New Jersey    NJ   7                        0.70   1570.0        0.055   \n",
       "New York      NY   4                        0.67   1560.0        0.055   \n",
       "Connecticut   CT   9                        1.00   1570.0        0.061   \n",
       "California    CA   10                       0.53   1560.0        0.064   \n",
       "Massachusetts MA   3                        0.76   1570.0        0.067   \n",
       "Rhode Island  RI   50                       0.71   1570.0        0.071   \n",
       "Illinois      IL   6                        0.09   1570.0        0.073   \n",
       "Pennsylvania  PA   11                       0.65   1560.0        0.077   \n",
       "New Hampshire NH   28                       0.96   1560.0        0.079   \n",
       "\n",
       "                         total_sat  \n",
       "state         code rank             \n",
       "California    CA   2        1055.0  \n",
       "New Jersey    NJ   7        1056.0  \n",
       "New York      NY   4        1052.0  \n",
       "Connecticut   CT   9        1041.0  \n",
       "California    CA   10       1055.0  \n",
       "Massachusetts MA   3        1107.0  \n",
       "Rhode Island  RI   50       1062.0  \n",
       "Illinois      IL   6        1115.0  \n",
       "Pennsylvania  PA   11       1071.0  \n",
       "New Hampshire NH   28       1052.0  "
      ]
     },
     "execution_count": 65,
     "metadata": {},
     "output_type": "execute_result"
    }
   ],
   "source": [
    "full_data.groupby(['state','code','rank'])[['participation_ratio_sat','sat_75%','accept_rate','total_sat']].mean().sort_values(by='accept_rate',ascending=True).head(10)"
   ]
  },
  {
   "cell_type": "markdown",
   "metadata": {},
   "source": [
    "### Which state has high avg acceptance rate and low act score?\n",
    "- The state with high acceptance rate and low act 75 percentile score will assume that the state will contain the low rank college "
   ]
  },
  {
   "cell_type": "code",
   "execution_count": 66,
   "metadata": {},
   "outputs": [],
   "source": [
    "high_acc_low_sc = full_data[(full_data['accept_rate'] > 0.75) & (full_data['act_75%'] < 28.5)]"
   ]
  },
  {
   "cell_type": "code",
   "execution_count": 67,
   "metadata": {},
   "outputs": [
    {
     "data": {
      "text/html": [
       "<div>\n",
       "<style scoped>\n",
       "    .dataframe tbody tr th:only-of-type {\n",
       "        vertical-align: middle;\n",
       "    }\n",
       "\n",
       "    .dataframe tbody tr th {\n",
       "        vertical-align: top;\n",
       "    }\n",
       "\n",
       "    .dataframe thead th {\n",
       "        text-align: right;\n",
       "    }\n",
       "</style>\n",
       "<table border=\"1\" class=\"dataframe\">\n",
       "  <thead>\n",
       "    <tr style=\"text-align: right;\">\n",
       "      <th></th>\n",
       "      <th></th>\n",
       "      <th>participation_ratio_act</th>\n",
       "      <th>accept_rate</th>\n",
       "      <th>act_75%</th>\n",
       "    </tr>\n",
       "    <tr>\n",
       "      <th>state</th>\n",
       "      <th>rank</th>\n",
       "      <th></th>\n",
       "      <th></th>\n",
       "      <th></th>\n",
       "    </tr>\n",
       "  </thead>\n",
       "  <tbody>\n",
       "    <tr>\n",
       "      <th>Wyoming</th>\n",
       "      <th>151</th>\n",
       "      <td>1.00</td>\n",
       "      <td>0.960</td>\n",
       "      <td>28.0</td>\n",
       "    </tr>\n",
       "    <tr>\n",
       "      <th>Ohio</th>\n",
       "      <th>177</th>\n",
       "      <td>0.75</td>\n",
       "      <td>0.951</td>\n",
       "      <td>26.0</td>\n",
       "    </tr>\n",
       "    <tr>\n",
       "      <th>Iowa</th>\n",
       "      <th>81</th>\n",
       "      <td>0.67</td>\n",
       "      <td>0.921</td>\n",
       "      <td>28.0</td>\n",
       "    </tr>\n",
       "    <tr>\n",
       "      <th>New Hampshire</th>\n",
       "      <th>126</th>\n",
       "      <td>0.18</td>\n",
       "      <td>0.840</td>\n",
       "      <td>28.0</td>\n",
       "    </tr>\n",
       "    <tr>\n",
       "      <th>Oregon</th>\n",
       "      <th>101</th>\n",
       "      <td>0.40</td>\n",
       "      <td>0.836</td>\n",
       "      <td>28.0</td>\n",
       "    </tr>\n",
       "    <tr>\n",
       "      <th>Ohio</th>\n",
       "      <th>149</th>\n",
       "      <td>0.75</td>\n",
       "      <td>0.821</td>\n",
       "      <td>26.0</td>\n",
       "    </tr>\n",
       "    <tr>\n",
       "      <th>Oregon</th>\n",
       "      <th>122</th>\n",
       "      <td>0.40</td>\n",
       "      <td>0.816</td>\n",
       "      <td>28.0</td>\n",
       "    </tr>\n",
       "    <tr>\n",
       "      <th>West Virginia</th>\n",
       "      <th>145</th>\n",
       "      <td>0.69</td>\n",
       "      <td>0.816</td>\n",
       "      <td>27.0</td>\n",
       "    </tr>\n",
       "    <tr>\n",
       "      <th>Tennessee</th>\n",
       "      <th>202</th>\n",
       "      <td>1.00</td>\n",
       "      <td>0.814</td>\n",
       "      <td>26.0</td>\n",
       "    </tr>\n",
       "    <tr>\n",
       "      <th>North Dakota</th>\n",
       "      <th>227</th>\n",
       "      <td>0.98</td>\n",
       "      <td>0.811</td>\n",
       "      <td>26.0</td>\n",
       "    </tr>\n",
       "  </tbody>\n",
       "</table>\n",
       "</div>"
      ],
      "text/plain": [
       "                    participation_ratio_act  accept_rate  act_75%\n",
       "state         rank                                               \n",
       "Wyoming       151                      1.00        0.960     28.0\n",
       "Ohio          177                      0.75        0.951     26.0\n",
       "Iowa          81                       0.67        0.921     28.0\n",
       "New Hampshire 126                      0.18        0.840     28.0\n",
       "Oregon        101                      0.40        0.836     28.0\n",
       "Ohio          149                      0.75        0.821     26.0\n",
       "Oregon        122                      0.40        0.816     28.0\n",
       "West Virginia 145                      0.69        0.816     27.0\n",
       "Tennessee     202                      1.00        0.814     26.0\n",
       "North Dakota  227                      0.98        0.811     26.0"
      ]
     },
     "execution_count": 67,
     "metadata": {},
     "output_type": "execute_result"
    }
   ],
   "source": [
    "high_acc_low_sc.groupby(['state','rank'])[['participation_ratio_act','accept_rate','act_75%']].mean().sort_values(by='accept_rate',ascending=False).head(10)"
   ]
  },
  {
   "cell_type": "markdown",
   "metadata": {},
   "source": [
    "### How the proportion of participation rate in both test by all state? "
   ]
  },
  {
   "cell_type": "code",
   "execution_count": 68,
   "metadata": {
    "scrolled": true
   },
   "outputs": [
    {
     "name": "stderr",
     "output_type": "stream",
     "text": [
      "/var/folders/78/4zcxg1p56xqd59gs1f96svr40000gn/T/ipykernel_2299/4063013447.py:1: FutureWarning: Indexing with multiple keys (implicitly converted to a tuple of keys) will be deprecated, use a list instead.\n",
      "  par_code = full_data.groupby('code')['participation_ratio_act','participation_ratio_sat'].mean()\n"
     ]
    }
   ],
   "source": [
    "par_code = full_data.groupby('code')['participation_ratio_act','participation_ratio_sat'].mean()\n",
    "par_code = par_code.sort_values(by=['participation_ratio_act'])"
   ]
  },
  {
   "cell_type": "code",
   "execution_count": 69,
   "metadata": {},
   "outputs": [],
   "source": [
    "#num_app = pd.DataFrame(full_data.groupby('code')['applicants'].sum())\n",
    "\n",
    "#name_acc = num_app.merge(acc_rate,on='code').reset_index().sort_values(by='accept_rate',ascending =False)\n",
    "\n",
    "#name_acc['applicants'] =name_acc['applicants']/1000"
   ]
  },
  {
   "cell_type": "markdown",
   "metadata": {},
   "source": [
    "### How the ranking influence to acceptance rate?"
   ]
  },
  {
   "cell_type": "code",
   "execution_count": 70,
   "metadata": {},
   "outputs": [],
   "source": [
    "rank_data = full_data.groupby(['rank_num'])[['accept_rate','sat_75%','act_75%','participation_ratio_act','participation_ratio_sat']].mean().reset_index('rank_num')"
   ]
  },
  {
   "cell_type": "markdown",
   "metadata": {},
   "source": [
    "## Visualize the Data\n"
   ]
  },
  {
   "cell_type": "code",
   "execution_count": 71,
   "metadata": {},
   "outputs": [
    {
     "data": {
      "text/plain": [
       "Text(0.5, 1.0, 'The correlation of the variables')"
      ]
     },
     "execution_count": 71,
     "metadata": {},
     "output_type": "execute_result"
    },
    {
     "data": {
      "image/png": "[encoded data removed]",
      "text/plain": [
       "<Figure size 1440x720 with 2 Axes>"
      ]
     },
     "metadata": {
      "needs_background": "light"
     },
     "output_type": "display_data"
    }
   ],
   "source": [
    "plt.figure(figsize=(20,10))\n",
    "sns.heatmap(full_data.corr(),annot=True)\n",
    "plt.title('The correlation of the variables')"
   ]
  },
  {
   "cell_type": "markdown",
   "metadata": {},
   "source": [
    "#### The correlation between average of ACT score and SAT score is negative, this mean mostly when one of the test take the other one will not getting much attention. Also, there is an evidence on the correlation on participation rate between both test which also is negative. Most of people can focus only one test.\n"
   ]
  },
  {
   "cell_type": "code",
   "execution_count": 72,
   "metadata": {
    "scrolled": false
   },
   "outputs": [
    {
     "data": {
      "image/png": "[encoded data removed]",
      "text/plain": [
       "<Figure size 1080x1080 with 2 Axes>"
      ]
     },
     "metadata": {
      "needs_background": "light"
     },
     "output_type": "display_data"
    }
   ],
   "source": [
    "#Code:\n",
    "fig,ax = plt.subplots(2,figsize=(15,15))\n",
    "#sns.regplot(x=full_data['math_sat'],y=full_data['math_act'],ax=ax[0],color='maroon')\n",
    "sns.regplot(x=full_data['composite_act'],y=full_data['total_sat'],ax=ax[0],color='crimson')\n",
    "sns.regplot(x=full_data['participation_ratio_act'],y=full_data['participation_ratio_sat'],ax=ax[1],color='darkorange')\n",
    "#ax[0].set_title('The correlation between SAT_math score and ACT_math score by all states',size=18)\n",
    "#ax[0].set_xlabel('SAT_math score',fontsize = 18.0)\n",
    "#ax[0].set_ylabel('ACT_math score',fontsize = 18.0)\n",
    "ax[0].set_title('The correlation between SAT_Participation_rate  and ACT_Participation_rate by all states',size=18)\n",
    "ax[0].set_xlabel('ACT_Participation_rate',fontsize = 18.0)\n",
    "ax[0].set_ylabel('SAT_Participation_rate',fontsize = 18.0)\n",
    "ax[1].set_title('The correlation between SAT_avg_score and ACT_avg_score by all states',size=18)\n",
    "ax[1].set_xlabel('ACT_avg_score',fontsize = 18.0)\n",
    "ax[1].set_ylabel('SAT_avg_score',fontsize = 18.0)\n",
    "fig.tight_layout(pad=2)"
   ]
  },
  {
   "cell_type": "code",
   "execution_count": 73,
   "metadata": {},
   "outputs": [],
   "source": [
    "#"
   ]
  },
  {
   "cell_type": "markdown",
   "metadata": {},
   "source": [
    "### In each states has different proportion on each test, there are some state that the test option is fix. \n",
    "- The group of fix option will be determine as **pure prop**. And the other group will determine as **ambigious group**"
   ]
  },
  {
   "cell_type": "code",
   "execution_count": 74,
   "metadata": {},
   "outputs": [
    {
     "data": {
      "image/png": "[encoded data removed]",
      "text/plain": [
       "<Figure size 1440x720 with 1 Axes>"
      ]
     },
     "metadata": {
      "needs_background": "light"
     },
     "output_type": "display_data"
    }
   ],
   "source": [
    "ax =par_code.plot.barh(stacked=True,figsize=(20, 10),color=['limegreen','deepskyblue'],fontsize=12)\n",
    "ax.set(xlabel = 'The proportion of test taken',ylabel ='The code of state',title=  'The proportion of each test by all states')\n",
    "plt.vlines(x=1,ymin = -10,ymax= 100,linestyles='dashed',color= 'black')\n",
    "plt.vlines(x=0.5,ymin = -10,ymax= 100,linestyles='dashed',color= 'white');\n"
   ]
  },
  {
   "cell_type": "markdown",
   "metadata": {},
   "source": [
    "### If we consider the **ambigious group** and convert both 75 percentile score into the same score range. We would notice that there are 3 classes of the differences in score which are:\n",
    "1. SAT > ACT : High rank college\n",
    "2. SAT < ACT : Low rank college\n",
    "3. SAT = ACT : Middle rank college"
   ]
  },
  {
   "cell_type": "code",
   "execution_count": 75,
   "metadata": {
    "scrolled": false
   },
   "outputs": [
    {
     "data": {
      "image/png": "[encoded data removed]",
      "text/plain": [
       "<Figure size 1440x720 with 2 Axes>"
      ]
     },
     "metadata": {
      "needs_background": "light"
     },
     "output_type": "display_data"
    }
   ],
   "source": [
    "fig, ax = plt.subplots(1,figsize=(20,10)) #'limegreen','deepskyblue'\n",
    "sns.barplot(data =act_7_2,x='code',y='z_75_act',color='limegreen',alpha =0.5 )\n",
    "plt.ylabel('Standardizing of ACT 75 percentiles score',fontsize=20,color = 'limegreen');\n",
    "plt.xlabel('Abbreviation of State',fontsize=20)\n",
    "plt.title('Average 75 percentiles score of SAT and ACT by ambigious state',size=20)\n",
    "ax.twinx()\n",
    "sns.barplot(data = act_7_2,x='code',y='z_75_sat',color='deepskyblue',alpha =0.5 )\n",
    "plt.ylabel('Standardizing of SAT 75 percentiles score',fontsize=20,color = 'deepskyblue');"
   ]
  },
  {
   "cell_type": "markdown",
   "metadata": {},
   "source": [
    "### The frequency of 3 rank college"
   ]
  },
  {
   "cell_type": "code",
   "execution_count": 76,
   "metadata": {
    "scrolled": true
   },
   "outputs": [
    {
     "data": {
      "text/plain": [
       "Text(0.5, 1.0, 'The number of colleges classified by ranking')"
      ]
     },
     "execution_count": 76,
     "metadata": {},
     "output_type": "execute_result"
    },
    {
     "data": {
      "image/png": "[encoded data removed]",
      "text/plain": [
       "<Figure size 720x720 with 1 Axes>"
      ]
     },
     "metadata": {
      "needs_background": "light"
     },
     "output_type": "display_data"
    }
   ],
   "source": [
    "fig ,ax = plt.subplots(figsize = (10,10))\n",
    "sns.histplot(data=full_data,x='rank_num',hue ='rank_num')\n",
    "plt.ylabel('The number of colleges')\n",
    "plt.xticks(full_data['rank_num'].unique())\n",
    "plt.title('The number of colleges classified by ranking')"
   ]
  },
  {
   "cell_type": "markdown",
   "metadata": {},
   "source": [
    "## What is the factor behind those classes?\n",
    "- If we assume that the college represent the state ranking, the high ranking state would have the high participation rate in SAT test, conversely to the low ranking states which have the high participation rate in ACT test as shown in the figure below."
   ]
  },
  {
   "cell_type": "code",
   "execution_count": 77,
   "metadata": {
    "scrolled": false
   },
   "outputs": [
    {
     "data": {
      "image/png": "[encoded data removed]",
      "text/plain": [
       "<Figure size 720x360 with 2 Axes>"
      ]
     },
     "metadata": {
      "needs_background": "light"
     },
     "output_type": "display_data"
    }
   ],
   "source": [
    "fig ,ax  = plt.subplots(1,2,figsize=(10,5))\n",
    "sns.barplot(data=rank_data,x='rank_num',y='participation_ratio_act',color = 'limegreen',alpha = 0.5,ax=ax[0])\n",
    "plt.xticks(fontsize= 15);\n",
    "sns.barplot(data=rank_data,x='rank_num',y='participation_ratio_sat',color ='deepskyblue',alpha= 0.5,ax=ax[1])\n",
    "fig.suptitle('The participation rate of ACT/SAT test in each college ranking', fontsize=16)\n",
    "ax[0].set_ylabel('ACT participation rate',fontsize= 16)\n",
    "ax[0].set_xlabel(' ',fontsize= 1)\n",
    "ax[0].set_xlabel('college ranking',fontsize= 16)\n",
    "ax[1].set_xlabel('college ranking',fontsize= 16)\n",
    "ax[1].set_ylabel('SAT participation rate',fontsize= 16)\n",
    "fig.tight_layout(pad=1)\n",
    "#'limegreen','deepskyblue'"
   ]
  },
  {
   "cell_type": "markdown",
   "metadata": {},
   "source": [
    "#### How could we determine in this situation? The reason for this things is these correlation.Imagine that the state where you were born has the low ranking college, which the data show the low ranking people will tend to take an ACT test. And the more on particaipation on ACT test the more of average score will drop. This will increase the porbability of accept rate"
   ]
  },
  {
   "cell_type": "code",
   "execution_count": 83,
   "metadata": {
    "scrolled": true
   },
   "outputs": [
    {
     "data": {
      "text/plain": [
       "Text(0, 0.5, 'participation rate of SAT test')"
      ]
     },
     "execution_count": 83,
     "metadata": {},
     "output_type": "execute_result"
    },
    {
     "data": {
      "image/png": "[encoded data removed]",
      "text/plain": [
       "<Figure size 720x720 with 1 Axes>"
      ]
     },
     "metadata": {
      "needs_background": "light"
     },
     "output_type": "display_data"
    }
   ],
   "source": [
    "fig,ax = plt.subplots(1,figsize=(10,10))\n",
    "\n",
    "sns.regplot(data =act_7_2,x='total_sat',y='participation_ratio_sat',color = 'deepskyblue')\n",
    "ax.set_title('The correlation between average SAT score and SAT participation rate  by all states',size=14)\n",
    "ax.set_xlabel('average SAT score',fontsize = 18.0)\n",
    "ax.set_ylabel('participation rate of SAT test',fontsize = 18.0)"
   ]
  },
  {
   "cell_type": "code",
   "execution_count": 82,
   "metadata": {},
   "outputs": [
    {
     "data": {
      "text/plain": [
       "Text(0, 0.5, 'participation rate of ACT test')"
      ]
     },
     "execution_count": 82,
     "metadata": {},
     "output_type": "execute_result"
    },
    {
     "data": {
      "image/png": "[encoded data removed]",
      "text/plain": [
       "<Figure size 720x720 with 1 Axes>"
      ]
     },
     "metadata": {
      "needs_background": "light"
     },
     "output_type": "display_data"
    }
   ],
   "source": [
    "fig,ax = plt.subplots(1,figsize=(10,10))\n",
    "\n",
    "sns.regplot(data =act_7_2,x='composite_act',y='participation_ratio_act',color= 'limegreen')\n",
    "ax.set_title('The correlation between average ACT score and ACT participation rate by all states',size=14)\n",
    "ax.set_xlabel('average ACT score',fontsize = 18.0)\n",
    "ax.set_ylabel('participation rate of ACT test',fontsize = 18.0)"
   ]
  },
  {
   "cell_type": "markdown",
   "metadata": {},
   "source": [
    "## Conclusions and Recommendations"
   ]
  },
  {
   "cell_type": "markdown",
   "metadata": {},
   "source": [
    "- If you are on the state with low ranking college, suggest that should take an ACT test.\n",
    "- If you are on the state with high ranking college, suggest that should take an SAT test.\n",
    "- If you are on the state with middle ranking college, you could either test."
   ]
  },
  {
   "cell_type": "code",
   "execution_count": null,
   "metadata": {},
   "outputs": [],
   "source": []
  }
 ],
 "metadata": {
  "anaconda-cloud": {},
  "kernelspec": {
   "display_name": "Python 3 (ipykernel)",
   "language": "python",
   "name": "python3"
  },
  "language_info": {
   "codemirror_mode": {
    "name": "ipython",
    "version": 3
   },
   "file_extension": ".py",
   "mimetype": "text/x-python",
   "name": "python",
   "nbconvert_exporter": "python",
   "pygments_lexer": "ipython3",
   "version": "3.9.12"
  }
 },
 "nbformat": 4,
 "nbformat_minor": 4
}
